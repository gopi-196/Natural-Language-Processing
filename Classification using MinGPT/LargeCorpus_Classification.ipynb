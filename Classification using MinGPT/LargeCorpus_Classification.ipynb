{
  "cells": [
    {
      "cell_type": "markdown",
      "metadata": {
        "id": "Us9Y27tG_pfN"
      },
      "source": [
        "# Assignment 3 Top-Level Code/Notebook\n",
        "### Training a language model base on Karpathy's mingpt_1 codebase\n"
      ]
    },
    {
      "cell_type": "code",
      "execution_count": 29,
      "metadata": {
        "colab": {
          "base_uri": "https://localhost:8080/"
        },
        "id": "K6wBxJuA_pfT",
        "outputId": "9cd8e2e3-160c-432e-82b7-d23bf8ae865f"
      },
      "outputs": [
        {
          "output_type": "stream",
          "name": "stderr",
          "text": [
            "[nltk_data] Downloading package punkt to /root/nltk_data...\n",
            "[nltk_data]   Package punkt is already up-to-date!\n"
          ]
        },
        {
          "output_type": "execute_result",
          "data": {
            "text/plain": [
              "True"
            ]
          },
          "metadata": {},
          "execution_count": 29
        }
      ],
      "source": [
        "# The code below is needed for using Google Colab, so un comment this if that is what you're using\n",
        "\n",
        "import nltk\n",
        "nltk.download('punkt')\n"
      ]
    },
    {
      "cell_type": "code",
      "execution_count": 30,
      "metadata": {
        "colab": {
          "base_uri": "https://localhost:8080/"
        },
        "id": "sPK1OlEm_pfY",
        "outputId": "ecacbd99-21b7-44ca-e79d-5191cc96030c"
      },
      "outputs": [
        {
          "output_type": "stream",
          "name": "stdout",
          "text": [
            "Drive already mounted at /content/drive; to attempt to forcibly remount, call drive.mount(\"/content/drive\", force_remount=True).\n",
            "/content/drive/MyDrive/Colab Notebooks\n"
          ]
        }
      ],
      "source": [
        "# The code below is also needed for using Google Colab\n",
        "# BEFORE executing this, you must place the mingpt folder supplied in the assignment\n",
        "# your google drive, within the folder \"Colab Notebooks\"\n",
        "#\n",
        "# It mounts and changes into the folder that contains mingpt, which you must upload to google drive\n",
        "# So un-comment it if you've uploaded mingpt to your google drive, into the  \"Colab Notebooks\" folder\n",
        "\n",
        "from google.colab import drive\n",
        "drive.mount('/content/drive')\n",
        "%cd /content/drive/MyDrive/Colab\\ Notebooks/\n"
      ]
    },
    {
      "cell_type": "code",
      "execution_count": 31,
      "metadata": {
        "id": "GFzjx32b_pfZ"
      },
      "outputs": [],
      "source": [
        "import torch \n",
        "import numpy as np\n",
        "import pandas as pd\n",
        "from nltk.tokenize import sent_tokenize \n",
        "import torch.nn as nn\n",
        "import matplotlib.pyplot as plt\n",
        "from pathlib import Path \n",
        "from sklearn.model_selection import train_test_split\n",
        "from torch.utils.data import Dataset\n",
        "from torch.utils.data.dataloader import DataLoader\n",
        "from mingpt_1.bpe import BPETokenizer \n",
        "from mingpt_1.utils import set_seed \n",
        "set_seed(1234)"
      ]
    },
    {
      "cell_type": "code",
      "execution_count": 32,
      "metadata": {
        "colab": {
          "base_uri": "https://localhost:8080/"
        },
        "id": "3nrGi_j3a3U5",
        "outputId": "8e8c8bb7-0919-444b-96cb-18c80c70ed64"
      },
      "outputs": [
        {
          "output_type": "stream",
          "name": "stdout",
          "text": [
            "Looking in indexes: https://pypi.org/simple, https://us-python.pkg.dev/colab-wheels/public/simple/\n",
            "Requirement already satisfied: datasets in /usr/local/lib/python3.7/dist-packages (2.6.1)\n",
            "Requirement already satisfied: pyarrow>=6.0.0 in /usr/local/lib/python3.7/dist-packages (from datasets) (6.0.1)\n",
            "Requirement already satisfied: importlib-metadata in /usr/local/lib/python3.7/dist-packages (from datasets) (4.13.0)\n",
            "Requirement already satisfied: multiprocess in /usr/local/lib/python3.7/dist-packages (from datasets) (0.70.13)\n",
            "Requirement already satisfied: requests>=2.19.0 in /usr/local/lib/python3.7/dist-packages (from datasets) (2.23.0)\n",
            "Requirement already satisfied: xxhash in /usr/local/lib/python3.7/dist-packages (from datasets) (3.1.0)\n",
            "Requirement already satisfied: pandas in /usr/local/lib/python3.7/dist-packages (from datasets) (1.3.5)\n",
            "Requirement already satisfied: packaging in /usr/local/lib/python3.7/dist-packages (from datasets) (21.3)\n",
            "Requirement already satisfied: dill<0.3.6 in /usr/local/lib/python3.7/dist-packages (from datasets) (0.3.5.1)\n",
            "Requirement already satisfied: tqdm>=4.62.1 in /usr/local/lib/python3.7/dist-packages (from datasets) (4.64.1)\n",
            "Requirement already satisfied: fsspec[http]>=2021.11.1 in /usr/local/lib/python3.7/dist-packages (from datasets) (2022.10.0)\n",
            "Requirement already satisfied: aiohttp in /usr/local/lib/python3.7/dist-packages (from datasets) (3.8.3)\n",
            "Requirement already satisfied: responses<0.19 in /usr/local/lib/python3.7/dist-packages (from datasets) (0.18.0)\n",
            "Requirement already satisfied: numpy>=1.17 in /usr/local/lib/python3.7/dist-packages (from datasets) (1.21.6)\n",
            "Requirement already satisfied: pyyaml>=5.1 in /usr/local/lib/python3.7/dist-packages (from datasets) (6.0)\n",
            "Requirement already satisfied: huggingface-hub<1.0.0,>=0.2.0 in /usr/local/lib/python3.7/dist-packages (from datasets) (0.10.1)\n",
            "Requirement already satisfied: attrs>=17.3.0 in /usr/local/lib/python3.7/dist-packages (from aiohttp->datasets) (22.1.0)\n",
            "Requirement already satisfied: frozenlist>=1.1.1 in /usr/local/lib/python3.7/dist-packages (from aiohttp->datasets) (1.3.1)\n",
            "Requirement already satisfied: asynctest==0.13.0 in /usr/local/lib/python3.7/dist-packages (from aiohttp->datasets) (0.13.0)\n",
            "Requirement already satisfied: aiosignal>=1.1.2 in /usr/local/lib/python3.7/dist-packages (from aiohttp->datasets) (1.2.0)\n",
            "Requirement already satisfied: multidict<7.0,>=4.5 in /usr/local/lib/python3.7/dist-packages (from aiohttp->datasets) (6.0.2)\n",
            "Requirement already satisfied: yarl<2.0,>=1.0 in /usr/local/lib/python3.7/dist-packages (from aiohttp->datasets) (1.8.1)\n",
            "Requirement already satisfied: typing-extensions>=3.7.4 in /usr/local/lib/python3.7/dist-packages (from aiohttp->datasets) (4.1.1)\n",
            "Requirement already satisfied: charset-normalizer<3.0,>=2.0 in /usr/local/lib/python3.7/dist-packages (from aiohttp->datasets) (2.1.1)\n",
            "Requirement already satisfied: async-timeout<5.0,>=4.0.0a3 in /usr/local/lib/python3.7/dist-packages (from aiohttp->datasets) (4.0.2)\n",
            "Requirement already satisfied: filelock in /usr/local/lib/python3.7/dist-packages (from huggingface-hub<1.0.0,>=0.2.0->datasets) (3.8.0)\n",
            "Requirement already satisfied: pyparsing!=3.0.5,>=2.0.2 in /usr/local/lib/python3.7/dist-packages (from packaging->datasets) (3.0.9)\n",
            "Requirement already satisfied: chardet<4,>=3.0.2 in /usr/local/lib/python3.7/dist-packages (from requests>=2.19.0->datasets) (3.0.4)\n",
            "Requirement already satisfied: idna<3,>=2.5 in /usr/local/lib/python3.7/dist-packages (from requests>=2.19.0->datasets) (2.10)\n",
            "Requirement already satisfied: urllib3!=1.25.0,!=1.25.1,<1.26,>=1.21.1 in /usr/local/lib/python3.7/dist-packages (from requests>=2.19.0->datasets) (1.25.11)\n",
            "Requirement already satisfied: certifi>=2017.4.17 in /usr/local/lib/python3.7/dist-packages (from requests>=2.19.0->datasets) (2022.9.24)\n",
            "Requirement already satisfied: zipp>=0.5 in /usr/local/lib/python3.7/dist-packages (from importlib-metadata->datasets) (3.9.0)\n",
            "Requirement already satisfied: python-dateutil>=2.7.3 in /usr/local/lib/python3.7/dist-packages (from pandas->datasets) (2.8.2)\n",
            "Requirement already satisfied: pytz>=2017.3 in /usr/local/lib/python3.7/dist-packages (from pandas->datasets) (2022.5)\n",
            "Requirement already satisfied: six>=1.5 in /usr/local/lib/python3.7/dist-packages (from python-dateutil>=2.7.3->pandas->datasets) (1.15.0)\n"
          ]
        }
      ],
      "source": [
        "!pip install datasets"
      ]
    },
    {
      "cell_type": "code",
      "execution_count": 33,
      "metadata": {
        "id": "Mby7-Ii_LyoI"
      },
      "outputs": [],
      "source": [
        "import datasets\n",
        "#sst = datasets.load_dataset('glue', 'sst2')"
      ]
    },
    {
      "cell_type": "code",
      "execution_count": 34,
      "metadata": {
        "colab": {
          "base_uri": "https://localhost:8080/"
        },
        "id": "AoDkvp2zcOj_",
        "outputId": "9eaebe4a-aaa4-4988-cc2d-37b0def5a58a"
      },
      "outputs": [
        {
          "output_type": "stream",
          "name": "stderr",
          "text": [
            "WARNING:datasets.builder:Found cached dataset sst2 (/root/.cache/huggingface/datasets/sst2/default/2.0.0/9896208a8d85db057ac50c72282bcb8fe755accc671a57dd8059d4e130961ed5)\n"
          ]
        }
      ],
      "source": [
        "sst_train = datasets.load_dataset('sst2', split='train')"
      ]
    },
    {
      "cell_type": "code",
      "execution_count": 35,
      "metadata": {
        "colab": {
          "base_uri": "https://localhost:8080/"
        },
        "id": "sO0nlloOd_8J",
        "outputId": "46649b33-a35b-4069-c54d-1a45c09232c2"
      },
      "outputs": [
        {
          "output_type": "execute_result",
          "data": {
            "text/plain": [
              "{'idx': 0,\n",
              " 'sentence': 'hide new secretions from the parental units ',\n",
              " 'label': 0}"
            ]
          },
          "metadata": {},
          "execution_count": 35
        }
      ],
      "source": [
        "sst_train[0]"
      ]
    },
    {
      "cell_type": "code",
      "execution_count": 36,
      "metadata": {
        "colab": {
          "base_uri": "https://localhost:8080/",
          "height": 67,
          "referenced_widgets": [
            "7fc9edd4255d49d4a731c39d2fd04d0c",
            "1e3b2066dc474292982c2f84f2f3e7bf",
            "e0d764aed09e4eb68f53ac610d05d0eb",
            "c85bcfca24244367bbf06652bb22a045",
            "14d38472955e42efbc2fd7dc6bd261d5",
            "b2b70748f2f34f448214b64e0f962c3e",
            "beed42a1f8f9414194a243a7b3ba7d51",
            "d043b02a538e4ade906256e203f30e77",
            "149ab39d8cf544a0b29fbd6716331aee",
            "e11917f369ec4fe0a59166a6eb988a8e",
            "901a345b53c14605acf1a6e31bcd7278"
          ]
        },
        "id": "ea-pc-IKeWCb",
        "outputId": "d294fcc9-6e85-48a8-c0f1-04ae4f71f415"
      },
      "outputs": [
        {
          "output_type": "display_data",
          "data": {
            "text/plain": [
              "Creating CSV from Arrow format:   0%|          | 0/7 [00:00<?, ?ba/s]"
            ],
            "application/vnd.jupyter.widget-view+json": {
              "version_major": 2,
              "version_minor": 0,
              "model_id": "7fc9edd4255d49d4a731c39d2fd04d0c"
            }
          },
          "metadata": {}
        },
        {
          "output_type": "execute_result",
          "data": {
            "text/plain": [
              "4564251"
            ]
          },
          "metadata": {},
          "execution_count": 36
        }
      ],
      "source": [
        "sst_train.to_csv('sst.csv')"
      ]
    },
    {
      "cell_type": "code",
      "execution_count": 37,
      "metadata": {
        "id": "J8oiuKMng44B"
      },
      "outputs": [],
      "source": [
        "df = pd.read_csv('sst.csv')\n",
        "df = df.drop(['Unnamed: 0','idx'], axis = 1)"
      ]
    },
    {
      "cell_type": "code",
      "execution_count": 38,
      "metadata": {
        "id": "mJ8uTNODetYz"
      },
      "outputs": [],
      "source": [
        "df1 = df[:1200]\n",
        "sentence = df1['sentence']\n",
        "label = df1['label']"
      ]
    },
    {
      "cell_type": "code",
      "execution_count": 39,
      "metadata": {
        "id": "SIqVeI-P87pX"
      },
      "outputs": [],
      "source": [
        "device = 'cuda' if torch.cuda.is_available() else 'cpu'"
      ]
    },
    {
      "cell_type": "code",
      "execution_count": 40,
      "metadata": {
        "id": "mbcPE1Snf72I"
      },
      "outputs": [],
      "source": [
        "class ClassificationDataset(Dataset):\n",
        "    def __init__(self, df, split=\"train\", truncation=-1):\n",
        "        \n",
        "        self.df = df\n",
        "        self.truncation = truncation  # int. If -1, then\n",
        "    \n",
        "        # Train / test split\n",
        "        train, val = train_test_split(df1, test_size=0.2, stratify=df1['label'], random_state=0)\n",
        "        if split == \"train\":\n",
        "            raw_data = train['sentence']\n",
        "        else:\n",
        "            raw_data = val['sentence']\n",
        "        self.y_train = train['label'].tolist()\n",
        "        self.y_val = val['label'].tolist()\n",
        "        self.split = split\n",
        "        self.tokenizer = BPETokenizer()\n",
        "        self.data = []  # List of 1-d pytorch tensor\n",
        "        for sent in raw_data:\n",
        "            tokenized = self.tokenizer(sent).view(-1)  # pytorch tensor\n",
        "            if truncation >= 0:\n",
        "                self.data.append(tokenized[:truncation])\n",
        "            else:\n",
        "                self.data.append(tokenized)\n",
        "\n",
        "        # Count some items\n",
        "        self.max_sentence_length = np.max([len(d) for d in self.data])\n",
        "\n",
        "    def __len__(self):\n",
        "        return len(self.data)\n",
        "\n",
        "    def get_vocab_size(self):\n",
        "        \"\"\"\n",
        "        We have to set this to the max vocab size (i.e., that decided by the BPE tokenizer), \n",
        "        but actually, only a small number of vocab is used, especially for the small text. \n",
        "        \"\"\"\n",
        "        return 50257\n",
        "\n",
        "    def __getitem__(self, idx, ):\n",
        "        \"\"\"\n",
        "        The output should be a tuple x and y, both as pytorch tensors.\n",
        "        Please refer to the `run()` method in the mingpt/trainer.py script for \n",
        "        how the x and y are going to be used.\n",
        "        \"\"\"\n",
        "        x = self.data[idx]\n",
        "        if self.split =='train':\n",
        "          y = self.y_train[idx]\n",
        "        else:\n",
        "          y = self.y_val[idx]\n",
        "        return (x, y)\n",
        "\n",
        "    def get_block_size(self):\n",
        "        \"\"\"\n",
        "        block_size is the size at which lines are truncated to ensure they are equal-length.\n",
        "        \"\"\"\n",
        "        return self.max_sentence_length\n",
        "    \n",
        "# Instantiate the Training Dataset\n",
        "train_dataset = ClassificationDataset(df1, split=\"train\", truncation=512) #use this for long\n",
        "\n",
        "# Instantiate a Validation Dataset (this is only really needed for the fine-tune task, not the LM task)\n",
        "val_dataset = ClassificationDataset(df1, split=\"validation\", truncation=512)"
      ]
    },
    {
      "cell_type": "code",
      "execution_count": 41,
      "metadata": {
        "colab": {
          "base_uri": "https://localhost:8080/"
        },
        "id": "O56nKSH9_pff",
        "outputId": "edafa126-2545-4637-d78f-25fcd70ceb4a"
      },
      "outputs": [
        {
          "output_type": "stream",
          "name": "stdout",
          "text": [
            "tensor([   77,  3258,   876, 12883,   220]) 1\n",
            "X:  narrative discipline \n"
          ]
        }
      ],
      "source": [
        "# Print out an example of the data - this is processed more once it reaches lm_collate_fn (above)\n",
        "x,y = train_dataset[111]\n",
        "print(x, y)\n",
        "print(\"X: \",train_dataset.tokenizer.decode(x))"
      ]
    },
    {
      "cell_type": "code",
      "execution_count": 42,
      "metadata": {
        "id": "Dn7U4YLLmTUP"
      },
      "outputs": [],
      "source": [
        "def classify_collate_fn(batch, device):\n",
        "    x = [item[0] for item in batch]  # List (len B) of varying lengths\n",
        "    y = [item[1] for item in batch]  # List (len B) of the same lengths as x\n",
        "    y = torch.as_tensor(y).unsqueeze(1)\n",
        "    maxlen = max([len(s) for s in x])\n",
        "\n",
        "    padded_x = []\n",
        "    for sx in x:\n",
        "        padded_x.append(torch.cat([sx, torch.ones(maxlen - len(sx))]))\n",
        "    return torch.stack(padded_x).long().to(device), y.to(device)"
      ]
    },
    {
      "cell_type": "code",
      "execution_count": 43,
      "metadata": {
        "id": "6_T9AdOAhTbu"
      },
      "outputs": [],
      "source": [
        "\"\"\"\n",
        "Prepare the dataset to train the Language Model (LM)\n",
        "This implementation splits the sentences and so doesn't create training \n",
        "examples that cross sentences.\n",
        "\n",
        "This code is set so that it uses one of two possible datasets, which were also used in Assignment 1: \n",
        "SmallSimpleCorpus.txt or LargerCorpus.txt\n",
        "\n",
        "Arguments:\n",
        "            ds_choice: str. \"small\" or \"large\". (i.e. selects which of the two datasets)\n",
        "            split: str. \"train\" or \"test\".\n",
        "            truncation: int. If -1: no truncation on sentences. Otherwise: truncate to this specific length.\n",
        "\"\"\" \n",
        "\n",
        "class LanguageModelingDataset(Dataset):\n",
        "    \n",
        "    def __init__(self, ds_choice=\"small\", split=\"train\", truncation=-1):\n",
        "        \n",
        "        base_path = \"/content/\"\n",
        "        fn = {\"small\": \"SmallSimpleCorpus.txt\", \"large\": \"LargerCorpus.txt\"}\n",
        "        self.ds_choice = ds_choice\n",
        "        self.truncation = truncation \n",
        "        text = Path(base_path, fn[ds_choice]).read_text()\n",
        "        if ds_choice == \"large\":\n",
        "            # Remove the newline char in the middle of sentences\n",
        "            # The \"paragraph splitting\" newlines appear to be \\n\\n -- remove the duplications there\n",
        "            text = text.replace(\"\\n\\n\", \"$$^^$$\").replace(\"\\n\", \" \").replace(\"$$^^$$\", \"\\n\")\n",
        "        sentences = sent_tokenize(text)\n",
        "\n",
        "        # Train / test split\n",
        "        train, val = train_test_split(sentences, test_size=0.2, shuffle=False)\n",
        "        if split == \"train\":\n",
        "            raw_data = train \n",
        "        else:\n",
        "            raw_data = val \n",
        "\n",
        "        # Tokenize\n",
        "        self.tokenizer = BPETokenizer()\n",
        "        self.data = []  # List of 1-d pytorch tensor\n",
        "        for sent in raw_data:\n",
        "            tokenized = self.tokenizer(sent).view(-1)  # pytorch tensor\n",
        "            if truncation >= 0:\n",
        "                self.data.append(tokenized[:truncation])\n",
        "            else:\n",
        "                self.data.append(tokenized)\n",
        "\n",
        "        # Count some items\n",
        "        self.max_sentence_length = np.max([len(d) for d in self.data])\n",
        "\n",
        "    def __len__(self):\n",
        "        return len(self.data)\n",
        "\n",
        "    def get_vocab_size(self):\n",
        "        \"\"\"\n",
        "        We have to set this to the max vocab size (i.e., that decided by the BPE tokenizer), \n",
        "        but actually, only a small number of vocab is used, especially for the small text. \n",
        "        \"\"\"\n",
        "        return 50257\n",
        "\n",
        "    def __getitem__(self, idx):\n",
        "        \"\"\"\n",
        "        The output should be a tuple x and y, both as pytorch tensors.\n",
        "        Please refer to the `run()` method in the mingpt/trainer.py script for \n",
        "        how the x and y are going to be used.\n",
        "        \"\"\"\n",
        "        x = self.data[idx][:-1]\n",
        "        y = self.data[idx][1:]\n",
        "        print(self.max_sentence_length)\n",
        "        return (x, y)\n",
        "\n",
        "    def get_block_size(self):\n",
        "        \"\"\"\n",
        "        block_size is the size at which lines are truncated to ensure they are equal-length.\n",
        "        \"\"\"\n",
        "        return self.max_sentence_length\n",
        "    \n",
        "# Instantiate the Training Dataset\n",
        "#train_dataset = LanguageModelingDataset(ds_choice=\"small\", split=\"train\")  # use this for the short corpus\n",
        "lm_train_dataset = LanguageModelingDataset(ds_choice=\"large\", split=\"train\", truncation=512) #use this for long\n",
        "\n",
        "# Instantiate a Validation Dataset (this is only really needed for the fine-tune task, not the LM task)\n",
        "#val_dataset = LanguageModelingDataset(ds_choice=\"small\", split=\"validation\")\n",
        "lm_val_dataset = LanguageModelingDataset(ds_choice=\"large\", split=\"validation\", truncation=512)"
      ]
    },
    {
      "cell_type": "code",
      "execution_count": 44,
      "metadata": {
        "id": "Nmkmfkk6_pfd"
      },
      "outputs": [],
      "source": [
        "def lm_collate_fn(batch, device):\n",
        "    x = [item[0] for item in batch]  # List (len B) of varying lengths\n",
        "    y = [item[1] for item in batch]  # List (len B) of the same lengths as x\n",
        "    maxlen = max([len(s) for s in x])\n",
        "\n",
        "    padded_x, padded_y = [], []\n",
        "    for sx, sy in zip(x, y):\n",
        "        padded_x.append(torch.cat([sx, torch.ones(maxlen - len(sx))]))\n",
        "        padded_y.append(torch.cat([sy, torch.ones(maxlen - len(sy))]))\n",
        "    return torch.stack(padded_x).long().to(device), torch.stack(padded_y).long().to(device)\n"
      ]
    },
    {
      "cell_type": "code",
      "execution_count": 45,
      "metadata": {
        "colab": {
          "base_uri": "https://localhost:8080/"
        },
        "id": "LPVMGag8xOn0",
        "outputId": "55ae17b0-4fc7-4100-92d1-7fda03065e0f"
      },
      "outputs": [
        {
          "output_type": "execute_result",
          "data": {
            "text/plain": [
              "(tensor([5143,  329, 3002,  220]), 0)"
            ]
          },
          "metadata": {},
          "execution_count": 45
        }
      ],
      "source": [
        "# bat = [train_dataset[10],train_dataset[11],train_dataset[12],train_dataset[13]]\n",
        "# a,b = lm_collate_fn(bat)\n",
        "# a,b\n",
        "train_dataset[0]"
      ]
    },
    {
      "cell_type": "code",
      "execution_count": 46,
      "metadata": {
        "colab": {
          "base_uri": "https://localhost:8080/"
        },
        "id": "bMqQwgSa_pfh",
        "outputId": "ed7ccc5c-aa29-4f71-9fe8-e101b933ccc1"
      },
      "outputs": [
        {
          "output_type": "stream",
          "name": "stdout",
          "text": [
            "number of parameters: 2.52M\n"
          ]
        }
      ],
      "source": [
        "from mingpt_1.model import GPT\n",
        "\n",
        "model_config = GPT.get_default_config()\n",
        "model_config.model_type = 'gpt-nano'\n",
        "model_config.vocab_size = lm_train_dataset.get_vocab_size()\n",
        "model_config.block_size = lm_train_dataset.get_block_size()\n",
        "model_config.n_classification_class = 2\n",
        "model = GPT(model_config)"
      ]
    },
    {
      "cell_type": "code",
      "execution_count": 47,
      "metadata": {
        "colab": {
          "base_uri": "https://localhost:8080/"
        },
        "id": "B3KOBhPu3A1E",
        "outputId": "09083a83-2d14-4b90-a6f7-c81057c3f234"
      },
      "outputs": [
        {
          "output_type": "execute_result",
          "data": {
            "text/plain": [
              "<All keys matched successfully>"
            ]
          },
          "metadata": {},
          "execution_count": 47
        }
      ],
      "source": [
        "model.load_state_dict(torch.load('/content/model_large1.pt'))"
      ]
    },
    {
      "cell_type": "code",
      "execution_count": 48,
      "metadata": {
        "colab": {
          "base_uri": "https://localhost:8080/"
        },
        "id": "1QUFmUsJ_pfj",
        "outputId": "3523e3ba-7b67-46b7-8553-80007a678b20"
      },
      "outputs": [
        {
          "output_type": "stream",
          "name": "stdout",
          "text": [
            "running on device cuda\n"
          ]
        }
      ],
      "source": [
        "# Create a Trainer object and set the core hyper-parameters\n",
        "from mingpt_1.trainer import Trainer\n",
        "\n",
        "train_config = Trainer.get_default_config()\n",
        "train_config.learning_rate = 5e-4 # the model we're using is so small that we can go a bit faster\n",
        "train_config.max_iters = 2000 # For small corpus: 3000 iterations is plenty. For large corpus: 100000 iterations is needed\n",
        "train_config.num_workers = 0\n",
        "train_config.batch_size = 4    # For small corpus, batch size of 4 is fine.  For large corpus use 16\n",
        "trainer = Trainer(train_config, model, train_dataset, val_dataset, downstream_finetune=True , collate_fn=classify_collate_fn)"
      ]
    },
    {
      "cell_type": "code",
      "execution_count": 49,
      "metadata": {
        "colab": {
          "base_uri": "https://localhost:8080/"
        },
        "id": "hmCv8c9M8wf5",
        "outputId": "2f7989a2-143e-424a-9d8f-0db130b7f8ab"
      },
      "outputs": [
        {
          "output_type": "execute_result",
          "data": {
            "text/plain": [
              "list"
            ]
          },
          "metadata": {},
          "execution_count": 49
        }
      ],
      "source": [
        "y_train = df1['label'].tolist()\n",
        "type(y_train)"
      ]
    },
    {
      "cell_type": "code",
      "execution_count": 50,
      "metadata": {
        "colab": {
          "base_uri": "https://localhost:8080/"
        },
        "id": "QDJZ3EGC_pfk",
        "outputId": "865913a4-37e7-467d-bbb5-2017d107e976"
      },
      "outputs": [
        {
          "output_type": "stream",
          "name": "stdout",
          "text": [
            "iter_dt 0.00ms; iter 0: train loss 0.71225; train_acc 0.007; val loss 0.30392; val_acc 0.007\n",
            "iter_dt 16.54ms; iter 100: train loss 0.39602; train_acc 0.583; val loss 1.03114; val_acc 0.518\n",
            "iter_dt 16.27ms; iter 200: train loss 0.60127; train_acc 0.613; val loss 0.67618; val_acc 0.575\n",
            "iter_dt 16.22ms; iter 300: train loss 0.31064; train_acc 0.680; val loss 0.47326; val_acc 0.498\n",
            "iter_dt 24.12ms; iter 400: train loss 0.00020; train_acc 0.767; val loss 5.89771; val_acc 0.580\n",
            "iter_dt 19.40ms; iter 500: train loss 0.00141; train_acc 0.787; val loss 1.84465; val_acc 0.530\n",
            "iter_dt 17.39ms; iter 600: train loss 0.00164; train_acc 0.868; val loss 0.46090; val_acc 0.595\n",
            "iter_dt 24.04ms; iter 700: train loss 0.00048; train_acc 0.885; val loss 1.36888; val_acc 0.542\n",
            "iter_dt 41.50ms; iter 800: train loss 0.15337; train_acc 0.880; val loss 0.29499; val_acc 0.553\n",
            "iter_dt 15.77ms; iter 900: train loss 0.00163; train_acc 0.900; val loss 8.47672; val_acc 0.632\n",
            "iter_dt 16.68ms; iter 1000: train loss 0.00000; train_acc 0.920; val loss 5.93031; val_acc 0.530\n",
            "iter_dt 15.16ms; iter 1100: train loss 1.38296; train_acc 0.945; val loss 9.37740; val_acc 0.613\n",
            "iter_dt 15.58ms; iter 1200: train loss 0.29470; train_acc 0.970; val loss 3.08409; val_acc 0.618\n",
            "iter_dt 15.83ms; iter 1300: train loss 0.00000; train_acc 0.975; val loss 4.81073; val_acc 0.595\n",
            "iter_dt 16.22ms; iter 1400: train loss 0.00000; train_acc 0.977; val loss 0.00001; val_acc 0.607\n",
            "iter_dt 16.23ms; iter 1500: train loss 0.00000; train_acc 0.980; val loss 5.41723; val_acc 0.595\n",
            "iter_dt 16.44ms; iter 1600: train loss 0.00000; train_acc 0.977; val loss 8.16723; val_acc 0.647\n",
            "iter_dt 15.65ms; iter 1700: train loss 0.00000; train_acc 0.977; val loss 0.00121; val_acc 0.590\n",
            "iter_dt 16.14ms; iter 1800: train loss 0.25782; train_acc 0.977; val loss 0.00000; val_acc 0.602\n",
            "iter_dt 16.02ms; iter 1900: train loss 0.00000; train_acc 0.980; val loss 0.00004; val_acc 0.642\n"
          ]
        }
      ],
      "source": [
        "# This function is called at the end of every batch in training\n",
        "# and is used to report the amount of time per 100 batches, and the loss at that point\n",
        "\n",
        "def batch_end_callback(trainer):\n",
        "    print(f\"iter_dt {trainer.iter_dt * 1000:.2f}ms; iter {trainer.iter_num}: train loss {trainer.loss.item():.5f}; train_acc {trainer.train_acc:.3f}; val loss {trainer.val_loss.item():.5f}; val_acc {trainer.val_acc:.3f}\")\n",
        "trainer.set_callback('on_batch_end', batch_end_callback)\n",
        "\n",
        "# Train!\n",
        "result = trainer.run()"
      ]
    },
    {
      "cell_type": "code",
      "execution_count": 53,
      "metadata": {
        "colab": {
          "base_uri": "https://localhost:8080/",
          "height": 573
        },
        "id": "djRK-HFPFpKE",
        "outputId": "480f880c-2a64-4c7c-e9e6-a5120614c464"
      },
      "outputs": [
        {
          "output_type": "display_data",
          "data": {
            "text/plain": [
              "<Figure size 432x288 with 1 Axes>"
            ],
            "image/png": "[encoded data removed]"
          },
          "metadata": {
            "needs_background": "light"
          }
        },
        {
          "output_type": "display_data",
          "data": {
            "text/plain": [
              "<Figure size 432x288 with 1 Axes>"
            ],
            "image/png": "[encoded data removed]"
          },
          "metadata": {
            "needs_background": "light"
          }
        }
      ],
      "source": [
        "plt.title(\"Training Loss Curve\")\n",
        "plt.plot(result[0], result[2], label=\"Train\")\n",
        "plt.xlabel(\"Iterations\")\n",
        "plt.ylabel(\"Loss\")\n",
        "plt.legend()\n",
        "plt.show()\n",
        "\n",
        "plt.title(\"Training Accuracy Curve\")\n",
        "plt.plot(result[0][1:], result[1][1:], label=\"Train\")\n",
        "plt.xlabel(\"Iterations\")\n",
        "plt.ylabel(\"Accuracy\")\n",
        "plt.legend()\n",
        "plt.show()"
      ]
    },
    {
      "cell_type": "code",
      "execution_count": 54,
      "metadata": {
        "colab": {
          "base_uri": "https://localhost:8080/",
          "height": 573
        },
        "id": "lSM6nVTWFpKE",
        "outputId": "e05a1c2c-1e44-470e-9056-b36fe56ab1cb"
      },
      "outputs": [
        {
          "output_type": "display_data",
          "data": {
            "text/plain": [
              "<Figure size 432x288 with 1 Axes>"
            ],
            "image/png": "[encoded data removed]"
          },
          "metadata": {
            "needs_background": "light"
          }
        },
        {
          "output_type": "display_data",
          "data": {
            "text/plain": [
              "<Figure size 432x288 with 1 Axes>"
            ],
            "image/png": "[encoded data removed]"
          },
          "metadata": {
            "needs_background": "light"
          }
        }
      ],
      "source": [
        "plt.title(\"Validation Loss Curve\")\n",
        "plt.plot(result[0], result[4], label=\"Validation\")\n",
        "plt.xlabel(\"Iterations\")\n",
        "plt.ylabel(\"Loss\")\n",
        "plt.legend()\n",
        "plt.show()\n",
        "\n",
        "plt.title(\"Validation Accuracy Curve\")\n",
        "plt.plot(result[0][1:], result[3][1:], label=\"Validation\")\n",
        "plt.xlabel(\"Iterations\")\n",
        "plt.ylabel(\"Loss\")\n",
        "plt.legend()\n",
        "plt.show()"
      ]
    },
    {
      "cell_type": "code",
      "execution_count": 52,
      "metadata": {
        "id": "S_86NXmiLkTa"
      },
      "outputs": [],
      "source": []
    }
  ],
  "metadata": {
    "accelerator": "GPU",
    "colab": {
      "collapsed_sections": [],
      "machine_shape": "hm",
      "provenance": []
    },
    "gpuClass": "standard",
    "kernelspec": {
      "display_name": "Python 3 (ipykernel)",
      "language": "python",
      "name": "python3"
    },
    "language_info": {
      "codemirror_mode": {
        "name": "ipython",
        "version": 3
      },
      "file_extension": ".py",
      "mimetype": "text/x-python",
      "name": "python",
      "nbconvert_exporter": "python",
      "pygments_lexer": "ipython3",
      "version": "3.7.13"
    },
    "vscode": {
      "interpreter": {
        "hash": "3c245645368b405f9e41f3dedb59d0df7c5d5feced548513488e8eb3fe8134cb"
      }
    },
    "widgets": {
      "application/vnd.jupyter.widget-state+json": {
        "7fc9edd4255d49d4a731c39d2fd04d0c": {
          "model_module": "@jupyter-widgets/controls",
          "model_name": "HBoxModel",
          "model_module_version": "1.5.0",
          "state": {
            "_dom_classes": [],
            "_model_module": "@jupyter-widgets/controls",
            "_model_module_version": "1.5.0",
            "_model_name": "HBoxModel",
            "_view_count": null,
            "_view_module": "@jupyter-widgets/controls",
            "_view_module_version": "1.5.0",
            "_view_name": "HBoxView",
            "box_style": "",
            "children": [
              "IPY_MODEL_1e3b2066dc474292982c2f84f2f3e7bf",
              "IPY_MODEL_e0d764aed09e4eb68f53ac610d05d0eb",
              "IPY_MODEL_c85bcfca24244367bbf06652bb22a045"
            ],
            "layout": "IPY_MODEL_14d38472955e42efbc2fd7dc6bd261d5"
          }
        },
        "1e3b2066dc474292982c2f84f2f3e7bf": {
          "model_module": "@jupyter-widgets/controls",
          "model_name": "HTMLModel",
          "model_module_version": "1.5.0",
          "state": {
            "_dom_classes": [],
            "_model_module": "@jupyter-widgets/controls",
            "_model_module_version": "1.5.0",
            "_model_name": "HTMLModel",
            "_view_count": null,
            "_view_module": "@jupyter-widgets/controls",
            "_view_module_version": "1.5.0",
            "_view_name": "HTMLView",
            "description": "",
            "description_tooltip": null,
            "layout": "IPY_MODEL_b2b70748f2f34f448214b64e0f962c3e",
            "placeholder": "​",
            "style": "IPY_MODEL_beed42a1f8f9414194a243a7b3ba7d51",
            "value": "Creating CSV from Arrow format: 100%"
          }
        },
        "e0d764aed09e4eb68f53ac610d05d0eb": {
          "model_module": "@jupyter-widgets/controls",
          "model_name": "FloatProgressModel",
          "model_module_version": "1.5.0",
          "state": {
            "_dom_classes": [],
            "_model_module": "@jupyter-widgets/controls",
            "_model_module_version": "1.5.0",
            "_model_name": "FloatProgressModel",
            "_view_count": null,
            "_view_module": "@jupyter-widgets/controls",
            "_view_module_version": "1.5.0",
            "_view_name": "ProgressView",
            "bar_style": "success",
            "description": "",
            "description_tooltip": null,
            "layout": "IPY_MODEL_d043b02a538e4ade906256e203f30e77",
            "max": 7,
            "min": 0,
            "orientation": "horizontal",
            "style": "IPY_MODEL_149ab39d8cf544a0b29fbd6716331aee",
            "value": 7
          }
        },
        "c85bcfca24244367bbf06652bb22a045": {
          "model_module": "@jupyter-widgets/controls",
          "model_name": "HTMLModel",
          "model_module_version": "1.5.0",
          "state": {
            "_dom_classes": [],
            "_model_module": "@jupyter-widgets/controls",
            "_model_module_version": "1.5.0",
            "_model_name": "HTMLModel",
            "_view_count": null,
            "_view_module": "@jupyter-widgets/controls",
            "_view_module_version": "1.5.0",
            "_view_name": "HTMLView",
            "description": "",
            "description_tooltip": null,
            "layout": "IPY_MODEL_e11917f369ec4fe0a59166a6eb988a8e",
            "placeholder": "​",
            "style": "IPY_MODEL_901a345b53c14605acf1a6e31bcd7278",
            "value": " 7/7 [00:00&lt;00:00, 23.24ba/s]"
          }
        },
        "14d38472955e42efbc2fd7dc6bd261d5": {
          "model_module": "@jupyter-widgets/base",
          "model_name": "LayoutModel",
          "model_module_version": "1.2.0",
          "state": {
            "_model_module": "@jupyter-widgets/base",
            "_model_module_version": "1.2.0",
            "_model_name": "LayoutModel",
            "_view_count": null,
            "_view_module": "@jupyter-widgets/base",
            "_view_module_version": "1.2.0",
            "_view_name": "LayoutView",
            "align_content": null,
            "align_items": null,
            "align_self": null,
            "border": null,
            "bottom": null,
            "display": null,
            "flex": null,
            "flex_flow": null,
            "grid_area": null,
            "grid_auto_columns": null,
            "grid_auto_flow": null,
            "grid_auto_rows": null,
            "grid_column": null,
            "grid_gap": null,
            "grid_row": null,
            "grid_template_areas": null,
            "grid_template_columns": null,
            "grid_template_rows": null,
            "height": null,
            "justify_content": null,
            "justify_items": null,
            "left": null,
            "margin": null,
            "max_height": null,
            "max_width": null,
            "min_height": null,
            "min_width": null,
            "object_fit": null,
            "object_position": null,
            "order": null,
            "overflow": null,
            "overflow_x": null,
            "overflow_y": null,
            "padding": null,
            "right": null,
            "top": null,
            "visibility": null,
            "width": null
          }
        },
        "b2b70748f2f34f448214b64e0f962c3e": {
          "model_module": "@jupyter-widgets/base",
          "model_name": "LayoutModel",
          "model_module_version": "1.2.0",
          "state": {
            "_model_module": "@jupyter-widgets/base",
            "_model_module_version": "1.2.0",
            "_model_name": "LayoutModel",
            "_view_count": null,
            "_view_module": "@jupyter-widgets/base",
            "_view_module_version": "1.2.0",
            "_view_name": "LayoutView",
            "align_content": null,
            "align_items": null,
            "align_self": null,
            "border": null,
            "bottom": null,
            "display": null,
            "flex": null,
            "flex_flow": null,
            "grid_area": null,
            "grid_auto_columns": null,
            "grid_auto_flow": null,
            "grid_auto_rows": null,
            "grid_column": null,
            "grid_gap": null,
            "grid_row": null,
            "grid_template_areas": null,
            "grid_template_columns": null,
            "grid_template_rows": null,
            "height": null,
            "justify_content": null,
            "justify_items": null,
            "left": null,
            "margin": null,
            "max_height": null,
            "max_width": null,
            "min_height": null,
            "min_width": null,
            "object_fit": null,
            "object_position": null,
            "order": null,
            "overflow": null,
            "overflow_x": null,
            "overflow_y": null,
            "padding": null,
            "right": null,
            "top": null,
            "visibility": null,
            "width": null
          }
        },
        "beed42a1f8f9414194a243a7b3ba7d51": {
          "model_module": "@jupyter-widgets/controls",
          "model_name": "DescriptionStyleModel",
          "model_module_version": "1.5.0",
          "state": {
            "_model_module": "@jupyter-widgets/controls",
            "_model_module_version": "1.5.0",
            "_model_name": "DescriptionStyleModel",
            "_view_count": null,
            "_view_module": "@jupyter-widgets/base",
            "_view_module_version": "1.2.0",
            "_view_name": "StyleView",
            "description_width": ""
          }
        },
        "d043b02a538e4ade906256e203f30e77": {
          "model_module": "@jupyter-widgets/base",
          "model_name": "LayoutModel",
          "model_module_version": "1.2.0",
          "state": {
            "_model_module": "@jupyter-widgets/base",
            "_model_module_version": "1.2.0",
            "_model_name": "LayoutModel",
            "_view_count": null,
            "_view_module": "@jupyter-widgets/base",
            "_view_module_version": "1.2.0",
            "_view_name": "LayoutView",
            "align_content": null,
            "align_items": null,
            "align_self": null,
            "border": null,
            "bottom": null,
            "display": null,
            "flex": null,
            "flex_flow": null,
            "grid_area": null,
            "grid_auto_columns": null,
            "grid_auto_flow": null,
            "grid_auto_rows": null,
            "grid_column": null,
            "grid_gap": null,
            "grid_row": null,
            "grid_template_areas": null,
            "grid_template_columns": null,
            "grid_template_rows": null,
            "height": null,
            "justify_content": null,
            "justify_items": null,
            "left": null,
            "margin": null,
            "max_height": null,
            "max_width": null,
            "min_height": null,
            "min_width": null,
            "object_fit": null,
            "object_position": null,
            "order": null,
            "overflow": null,
            "overflow_x": null,
            "overflow_y": null,
            "padding": null,
            "right": null,
            "top": null,
            "visibility": null,
            "width": null
          }
        },
        "149ab39d8cf544a0b29fbd6716331aee": {
          "model_module": "@jupyter-widgets/controls",
          "model_name": "ProgressStyleModel",
          "model_module_version": "1.5.0",
          "state": {
            "_model_module": "@jupyter-widgets/controls",
            "_model_module_version": "1.5.0",
            "_model_name": "ProgressStyleModel",
            "_view_count": null,
            "_view_module": "@jupyter-widgets/base",
            "_view_module_version": "1.2.0",
            "_view_name": "StyleView",
            "bar_color": null,
            "description_width": ""
          }
        },
        "e11917f369ec4fe0a59166a6eb988a8e": {
          "model_module": "@jupyter-widgets/base",
          "model_name": "LayoutModel",
          "model_module_version": "1.2.0",
          "state": {
            "_model_module": "@jupyter-widgets/base",
            "_model_module_version": "1.2.0",
            "_model_name": "LayoutModel",
            "_view_count": null,
            "_view_module": "@jupyter-widgets/base",
            "_view_module_version": "1.2.0",
            "_view_name": "LayoutView",
            "align_content": null,
            "align_items": null,
            "align_self": null,
            "border": null,
            "bottom": null,
            "display": null,
            "flex": null,
            "flex_flow": null,
            "grid_area": null,
            "grid_auto_columns": null,
            "grid_auto_flow": null,
            "grid_auto_rows": null,
            "grid_column": null,
            "grid_gap": null,
            "grid_row": null,
            "grid_template_areas": null,
            "grid_template_columns": null,
            "grid_template_rows": null,
            "height": null,
            "justify_content": null,
            "justify_items": null,
            "left": null,
            "margin": null,
            "max_height": null,
            "max_width": null,
            "min_height": null,
            "min_width": null,
            "object_fit": null,
            "object_position": null,
            "order": null,
            "overflow": null,
            "overflow_x": null,
            "overflow_y": null,
            "padding": null,
            "right": null,
            "top": null,
            "visibility": null,
            "width": null
          }
        },
        "901a345b53c14605acf1a6e31bcd7278": {
          "model_module": "@jupyter-widgets/controls",
          "model_name": "DescriptionStyleModel",
          "model_module_version": "1.5.0",
          "state": {
            "_model_module": "@jupyter-widgets/controls",
            "_model_module_version": "1.5.0",
            "_model_name": "DescriptionStyleModel",
            "_view_count": null,
            "_view_module": "@jupyter-widgets/base",
            "_view_module_version": "1.2.0",
            "_view_name": "StyleView",
            "description_width": ""
          }
        }
      }
    }
  },
  "nbformat": 4,
  "nbformat_minor": 0
}