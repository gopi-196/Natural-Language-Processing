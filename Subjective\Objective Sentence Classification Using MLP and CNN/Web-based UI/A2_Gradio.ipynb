{
 "cells": [
  {
   "cell_type": "code",
   "execution_count": 56,
   "id": "50276f16",
   "metadata": {},
   "outputs": [],
   "source": [
    "import gradio as gr\n",
    "import torch\n",
    "import torchtext\n",
    "from torchtext import data\n",
    "import torch.optim as optim\n",
    "import torch.nn as nn\n",
    "import torch.nn.functional as F"
   ]
  },
  {
   "cell_type": "code",
   "execution_count": 20,
   "id": "9362d7b4",
   "metadata": {},
   "outputs": [],
   "source": [
    "glove = torchtext.vocab.GloVe(name=\"6B\",dim=100)\n",
    "embedding_dim = 100\n",
    "num_filters = 50\n",
    "k_size=[2,4]\n",
    "freeze = True"
   ]
  },
  {
   "cell_type": "code",
   "execution_count": 102,
   "id": "c5b03a5c",
   "metadata": {},
   "outputs": [],
   "source": [
    "class BaselineModel(torch.nn.Module):\n",
    "    def __init__(self, vocab, embedding_dim):\n",
    "        super(BaselineModel,self).__init__()\n",
    "        self.embedding = nn.Embedding.from_pretrained(vocab.vectors)\n",
    "        self.linear = nn.Linear(embedding_dim,1)\n",
    "        self.sigmoid = nn.Sigmoid()\n",
    "    def forward(self, x):\n",
    "        \"\"\"\n",
    "        x: torch.tensor of shape (bsz), bsz is the batch size\n",
    "        \"\"\"\n",
    "        out = self.embedding(x)\n",
    "        out = torch.mean(out,0)\n",
    "        logits = self.linear(out).squeeze(1)\n",
    "        logits = self.sigmoid(logits)\n",
    "        return logits"
   ]
  },
  {
   "cell_type": "code",
   "execution_count": 103,
   "id": "8917a049",
   "metadata": {},
   "outputs": [],
   "source": [
    "class CNNmodel(torch.nn.Module):\n",
    "    def __init__(self,vocab,embedding_dim,num_filters,k_size, freeze):\n",
    "        super(CNNmodel,self).__init__()\n",
    "        self.embedding = nn.Embedding.from_pretrained(vocab.vectors, freeze=freeze)\n",
    "        self.conv1 = nn.Conv2d(1,num_filters,kernel_size=(k_size[0],embedding_dim),bias=False)\n",
    "        self.conv2 = nn.Conv2d(1,num_filters,kernel_size=(k_size[1],embedding_dim),bias=False)\n",
    "        self.linear1 = nn.Linear(num_filters*2,1)\n",
    "        self.sigmoid = nn.Sigmoid()\n",
    "    def forward(self, x, length,k_size):\n",
    "        \"\"\"\n",
    "        x: torch.tensor of shape (bsz), bsz is the batch size\n",
    "        \"\"\"\n",
    "        out = self.embedding(x)\n",
    "        out = out.permute(1,0,2).unsqueeze(1)\n",
    "        out1 = self.conv1(out).squeeze(3)\n",
    "        out1 = F.relu(out1)\n",
    "        out1 = F.max_pool1d(out1,int(length-(k_size[0]-1)))\n",
    "        out2 = self.conv2(out).squeeze(3)\n",
    "        out2 = F.relu(out2)\n",
    "        out2 = F.max_pool1d(out2,int(length-(k_size[1]-1)))\n",
    "        out = torch.concat((out1,out2),1).squeeze()\n",
    "        logits = self.linear1(out)\n",
    "        logits = self.sigmoid(logits)\n",
    "        return logits  "
   ]
  },
  {
   "cell_type": "code",
   "execution_count": 105,
   "id": "0af52a7e",
   "metadata": {
    "scrolled": true
   },
   "outputs": [
    {
     "name": "stdout",
     "output_type": "stream",
     "text": [
      "Running on local URL:  http://127.0.0.1:7896\n",
      "\n",
      "To create a public link, set `share=True` in `launch()`.\n"
     ]
    },
    {
     "data": {
      "text/html": [
       "<div><iframe src=\"http://127.0.0.1:7896/\" width=\"900\" height=\"500\" allow=\"autoplay; camera; microphone; clipboard-read; clipboard-write;\" frameborder=\"0\" allowfullscreen></iframe></div>"
      ],
      "text/plain": [
       "<IPython.core.display.HTML object>"
      ]
     },
     "metadata": {},
     "output_type": "display_data"
    },
    {
     "data": {
      "text/plain": [
       "(<gradio.routes.App at 0x1cd0ae7c508>, 'http://127.0.0.1:7896/', None)"
      ]
     },
     "execution_count": 105,
     "metadata": {},
     "output_type": "execute_result"
    }
   ],
   "source": [
    "def classification(Text):\n",
    "    baseline_checkpoint = torch.load('baseline.pt',map_location=torch.device('cpu'))\n",
    "    baseline_model = BaselineModel(glove,embedding_dim)\n",
    "    baseline_model.load_state_dict(baseline_checkpoint)\n",
    "    \n",
    "    CNN_checkpoint = torch.load('cnn.pt',map_location=torch.device('cpu'))\n",
    "    CNN_model = CNNmodel(glove,embedding_dim,num_filters,k_size, freeze)\n",
    "    CNN_model.load_state_dict(CNN_checkpoint)\n",
    "    \n",
    "    tokens = Text.split()\n",
    "    token_ints = [glove.stoi.get(tok, len(glove.stoi)-1) for tok in tokens]\n",
    "    token_tensor = torch.LongTensor(token_ints).view(-1,1)\n",
    "    \n",
    "    baseline_prob = baseline_model(token_tensor)\n",
    "    baseline_probability = float(baseline_prob)\n",
    "    cnn_prob = CNN_model(token_tensor, len(token_tensor), k_size)\n",
    "    cnn_probability = float(cnn_prob)\n",
    "    baseline_probability = round(baseline_probability, 2)\n",
    "    cnn_probability = round(cnn_probability, 2)\n",
    "    \n",
    "    if baseline_probability > 0.5:\n",
    "        a,b = 'Subjective', baseline_probability\n",
    "    else:\n",
    "        a,b = 'Objective', baseline_probability\n",
    "    \n",
    "    if cnn_probability > 0.5:\n",
    "        c,d = 'Subjective', cnn_probability\n",
    "    else:\n",
    "        c,d = 'Objective', cnn_probability\n",
    "        \n",
    "    return a,b,c,d\n",
    "\n",
    "      \n",
    "output1 = gr.Textbox(label=\"Baseline classification\")\n",
    "output2 = gr.Textbox(label=\"Baseline prediction probability\")\n",
    "output3 = gr.Textbox(label=\"CNN classification\")\n",
    "output4 = gr.Textbox(label=\"CNN prediction probability\")\n",
    "    \n",
    "demo = gr.Interface(\n",
    "    fn=classification,\n",
    "    inputs=[\"text\"],\n",
    "    outputs=[output1, output2, output3, output4],\n",
    ")\n",
    "\n",
    "\n",
    "demo.launch()"
   ]
  },
  {
   "cell_type": "code",
   "execution_count": null,
   "id": "fb869855",
   "metadata": {},
   "outputs": [],
   "source": []
  }
 ],
 "metadata": {
  "kernelspec": {
   "display_name": "Python 3 (ipykernel)",
   "language": "python",
   "name": "python3"
  },
  "language_info": {
   "codemirror_mode": {
    "name": "ipython",
    "version": 3
   },
   "file_extension": ".py",
   "mimetype": "text/x-python",
   "name": "python",
   "nbconvert_exporter": "python",
   "pygments_lexer": "ipython3",
   "version": "3.7.13"
  }
 },
 "nbformat": 4,
 "nbformat_minor": 5
}
