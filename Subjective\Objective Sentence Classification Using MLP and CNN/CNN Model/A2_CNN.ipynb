{
 "cells": [
  {
   "cell_type": "code",
   "execution_count": null,
   "id": "48270e11",
   "metadata": {},
   "outputs": [],
   "source": [
    "import torch\n",
    "import torchtext\n",
    "from torchtext import data\n",
    "import torch.optim as optim\n",
    "import torch.nn as nn\n",
    "import numpy as np\n",
    "import argparse\n",
    "import os\n",
    "import pandas as pd\n",
    "from sklearn.model_selection import train_test_split\n",
    "import torch.nn.functional as F\n",
    "from tqdm.notebook import tqdm\n",
    "import matplotlib.pyplot as plt"
   ]
  },
  {
   "cell_type": "code",
   "execution_count": null,
   "id": "e916b276",
   "metadata": {},
   "outputs": [],
   "source": [
    "class TextDataset(torch.utils.data.Dataset):\n",
    "    def __init__(self, vocab, split=\"train\"):\n",
    "        data_path = \"data\"\n",
    "        df = pd.read_csv(os.path.join(data_path, f\"{split}.tsv\"), sep=\"\\t\")\n",
    "\n",
    "        X, Y = [], []\n",
    "        V = len(vocab.vectors)\n",
    "        for i, row in df.iterrows():\n",
    "            L = row[\"text\"].split()\n",
    "            X.append(torch.tensor([vocab.stoi.get(w, V-1) for w in L]))  # Use the last word in the vocab as the \"out-of-vocabulary\" token\n",
    "            Y.append(row.label)\n",
    "        self.X = X \n",
    "        self.Y = torch.tensor(Y)\n",
    "        \n",
    "    def __len__(self):\n",
    "        return len(self.X)\n",
    "\n",
    "    def __getitem__(self, idx):\n",
    "        return self.X[idx], self.Y[idx] "
   ]
  },
  {
   "cell_type": "code",
   "execution_count": null,
   "id": "b15dc0ab",
   "metadata": {},
   "outputs": [],
   "source": [
    "def my_collate_function(batch, device):\n",
    "    batch_x, batch_y = [], []\n",
    "    max_len = 0\n",
    "    for x,y in batch:\n",
    "        batch_y.append(y)\n",
    "        max_len = max(max_len, len(x))\n",
    "    for x,y in batch:\n",
    "        x_p = torch.concat(\n",
    "            [x, torch.zeros(max_len - len(x))]\n",
    "        )\n",
    "        batch_x.append(x_p)\n",
    "    return torch.stack(batch_x).t().int().to(device), torch.tensor(batch_y).to(device)"
   ]
  },
  {
   "cell_type": "code",
   "execution_count": null,
   "id": "3d4fad24",
   "metadata": {},
   "outputs": [],
   "source": [
    "class CNNmodel(torch.nn.Module):\n",
    "    def __init__(self,vocab,embedding_dim,num_filters,k_size, freeze):\n",
    "        super(CNNmodel,self).__init__()\n",
    "        self.embedding = nn.Embedding.from_pretrained(vocab.vectors, freeze=freeze)\n",
    "        self.conv1 = nn.Conv2d(1,num_filters,kernel_size=(k_size[0],embedding_dim),bias=False)\n",
    "        self.conv2 = nn.Conv2d(1,num_filters,kernel_size=(k_size[1],embedding_dim),bias=False)\n",
    "        self.linear1 = nn.Linear(num_filters*2,1)\n",
    "    def forward(self, x, length,k_size):\n",
    "        \"\"\"\n",
    "        x: torch.tensor of shape (bsz), bsz is the batch size\n",
    "        \"\"\"\n",
    "        out = self.embedding(x)\n",
    "        out = out.permute(1,0,2).unsqueeze(1)\n",
    "        out1 = self.conv1(out).squeeze(3)\n",
    "        out1 = F.relu(out1)\n",
    "        out1 = F.max_pool1d(out1,int(length-(k_size[0]-1)))\n",
    "        out2 = self.conv2(out).squeeze(3)\n",
    "        out2 = F.relu(out2)\n",
    "        out2 = F.max_pool1d(out2,int(length-(k_size[1]-1)))\n",
    "        out = torch.concat((out1,out2),1).squeeze()\n",
    "        logits = self.linear1(out).squeeze(1)\n",
    "        return logits  "
   ]
  },
  {
   "cell_type": "code",
   "execution_count": null,
   "id": "df776c40",
   "metadata": {},
   "outputs": [],
   "source": [
    "def evaluate(model,batch,criterion, batch_size, k_size):\n",
    "    model.eval()\n",
    "    with torch.no_grad():\n",
    "        e_loss = 0.0\n",
    "        e_acc = 0.0\n",
    "        p =0\n",
    "        for text,label in iter(batch):\n",
    "            length = len(text)\n",
    "            logits = model(text,length,k_size)\n",
    "            label = label.type(torch.float)\n",
    "            loss = criterion(logits,label)\n",
    "            acc = ((logits > 0)==label).float().sum() \n",
    "            e_acc += (acc/batch_size)\n",
    "            e_loss = e_loss + float(loss)\n",
    "            p += 1\n",
    "        return (e_loss/p), (e_acc.cpu()/p)"
   ]
  },
  {
   "cell_type": "code",
   "execution_count": null,
   "id": "db4ba331",
   "metadata": {},
   "outputs": [],
   "source": [
    "def CNN_train(batch_size, epochs, lr, num_filters, embedding_dim, dataset, k_size, freeze):\n",
    "    torch.manual_seed(2)\n",
    "    device = torch.device('cuda' if torch.cuda.is_available() else 'cpu')\n",
    "    print (\"Using device:\", device)\n",
    "    glove = torchtext.vocab.GloVe(name=\"6B\",dim=100)\n",
    "\n",
    "    train_dataset = TextDataset(glove, dataset)\n",
    "    val_dataset = TextDataset(glove, \"validation\")\n",
    "    test_dataset = TextDataset(glove, \"test\")\n",
    "\n",
    "    # 3.3.3\n",
    "    train_dataloader = torch.utils.data.DataLoader(\n",
    "        dataset=train_dataset, \n",
    "        batch_size= batch_size, \n",
    "        shuffle=False, \n",
    "        collate_fn=lambda batch: my_collate_function(batch, device))\n",
    "\n",
    "    validation_dataloader = torch.utils.data.DataLoader(\n",
    "        dataset=val_dataset, \n",
    "        batch_size= batch_size, \n",
    "        shuffle=False, \n",
    "        collate_fn=lambda batch: my_collate_function(batch, device))\n",
    "\n",
    "    test_dataloader = torch.utils.data.DataLoader(\n",
    "        dataset=test_dataset,\n",
    "        batch_size= batch_size,\n",
    "        shuffle=False,\n",
    "        collate_fn=lambda batch: my_collate_function(batch, device))\n",
    "\n",
    "\n",
    "    #model = BaselineModel(glove,embedding_dim)\n",
    "    model = CNNmodel(glove,embedding_dim,num_filters,k_size, freeze)\n",
    "    model = model.to(device)\n",
    "    criterion = torch.nn.BCEWithLogitsLoss()\n",
    "    opt_func = torch.optim.Adam\n",
    "    optimizer = opt_func(model.parameters(), lr)       \n",
    "\n",
    "    train_loss_list = []\n",
    "    train_acc_list = []\n",
    "    val_loss_list = []\n",
    "    val_acc_list = []\n",
    "    test_loss_list = []\n",
    "    test_acc_list = []\n",
    "\n",
    "    epoch_r = np.arange(0,epochs)\n",
    "    for epoch in range(epochs):\n",
    "        train_loss= 0.0\n",
    "        train_acc= 0.0\n",
    "        model.train()\n",
    "        n = 0\n",
    "        for text,label in iter(train_dataloader): \n",
    "            length = len(text)\n",
    "            logits = model(text,length,k_size)\n",
    "            label = label.type(torch.float)\n",
    "            loss = criterion(logits,label)\n",
    "            loss.backward()\n",
    "            optimizer.step()\n",
    "            optimizer.zero_grad()\n",
    "            acc = ((logits > 0)==label).float().sum()\n",
    "            train_acc += (acc/batch_size)\n",
    "            train_loss = train_loss + float(loss)\n",
    "            n += 1\n",
    "        train_loss_list.append(train_loss/n)\n",
    "        train_acc_list.append(train_acc.cpu()/n)\n",
    "\n",
    "        val = evaluate(model,validation_dataloader, criterion, batch_size, k_size)\n",
    "        val_loss_list.append(val[0])\n",
    "        val_acc_list.append(val[1])\n",
    "\n",
    "        print(\"Epoch: [{}]| Train acc:  {:.4f} | Train loss:  {:.4f} |  Valid acc:  {:.4f} |  Valid loss:  {:.4f} \"\n",
    "          .format(epoch + 1, train_acc_list[epoch], train_loss_list[epoch],val_acc_list[epoch],\n",
    "                  val_loss_list[epoch]))\n",
    "        \n",
    "    test = evaluate(model,test_dataloader, criterion, batch_size, k_size)\n",
    "    test_loss_list.append(test[0])\n",
    "    test_acc_list.append(test[1])\n",
    "    print('Test Accuracy:', test_acc_list[-1])\n",
    "        \n",
    "    plt.title(\"Loss Curve\")\n",
    "    plt.plot(epoch_r, train_loss_list, label=\"Train\")\n",
    "    plt.plot(epoch_r, val_loss_list, label=\"Validation\")\n",
    "    plt.xlabel(\"Epochs\")\n",
    "    plt.ylabel(\"Loss\")\n",
    "    plt.legend()\n",
    "    plt.show()\n",
    "    \n",
    "    plt.title(\"Accuracy Curve\")\n",
    "    plt.plot(epoch_r, train_acc_list, label=\"Train\")\n",
    "    plt.plot(epoch_r, val_acc_list, label=\"Validation\")\n",
    "    plt.xlabel(\"Epochs\")\n",
    "    plt.ylabel(\"Loss\")\n",
    "    plt.legend()\n",
    "    plt.show()\n",
    "    \n",
    "    return model"
   ]
  },
  {
   "cell_type": "code",
   "execution_count": null,
   "id": "dd68b572",
   "metadata": {},
   "outputs": [],
   "source": [
    "def CNN_overfit(batch_size, epochs, lr, num_filters, embedding_dim, dataset, k_size, freeze):\n",
    "    torch.manual_seed(2)\n",
    "    device = torch.device('cuda' if torch.cuda.is_available() else 'cpu')\n",
    "    print (\"Using device:\", device)\n",
    "    glove = torchtext.vocab.GloVe(name=\"6B\",dim=100)\n",
    "\n",
    "    train_dataset = TextDataset(glove, dataset)\n",
    "\n",
    "    # 3.3.3\n",
    "    train_dataloader = torch.utils.data.DataLoader(\n",
    "        dataset=train_dataset, \n",
    "        batch_size= batch_size, \n",
    "        shuffle=False, \n",
    "        collate_fn=lambda batch: my_collate_function(batch, device))\n",
    "\n",
    "\n",
    "    #model = BaselineModel(glove,embedding_dim)\n",
    "    model = CNNmodel(glove,embedding_dim,num_filters,k_size, freeze)\n",
    "    model = model.to(device)\n",
    "    criterion = torch.nn.BCEWithLogitsLoss()\n",
    "    opt_func = torch.optim.Adam\n",
    "    optimizer = opt_func(model.parameters(), lr)       \n",
    "\n",
    "    train_loss_list = []\n",
    "    train_acc_list = []\n",
    "\n",
    "    epoch_r = np.arange(0,epochs)\n",
    "    for epoch in range(epochs):\n",
    "        train_loss= 0.0\n",
    "        train_acc= 0.0\n",
    "        model.train()\n",
    "        n = 0\n",
    "        for text,label in iter(train_dataloader): \n",
    "            length = len(text)\n",
    "            logits = model(text,length,k_size)\n",
    "            label = label.type(torch.float)\n",
    "            loss = criterion(logits,label)\n",
    "            loss.backward()\n",
    "            optimizer.step()\n",
    "            optimizer.zero_grad()\n",
    "            acc = ((logits > 0)==label).float().sum()\n",
    "            train_acc += (acc/batch_size)\n",
    "            train_loss = train_loss + float(loss)\n",
    "            n += 1\n",
    "        train_loss_list.append(train_loss/n)\n",
    "        train_acc_list.append(train_acc.cpu()/n)\n",
    "\n",
    "        print(\"Epoch: [{}]| Train acc:  {:.4f} | Train loss:  {:.4f} \"\n",
    "          .format(epoch + 1, train_acc_list[epoch], train_loss_list[epoch]))\n",
    "        \n",
    "    plt.title(\"Loss Curve\")\n",
    "    plt.plot(epoch_r, train_loss_list, label=\"Train\")\n",
    "    plt.xlabel(\"Epochs\")\n",
    "    plt.ylabel(\"Loss\")\n",
    "    plt.legend()\n",
    "    plt.show()\n",
    "    \n",
    "    plt.title(\"Accuracy Curve\")\n",
    "    plt.plot(epoch_r, train_acc_list, label=\"Train\")\n",
    "    plt.xlabel(\"Epochs\")\n",
    "    plt.ylabel(\"Loss\")\n",
    "    plt.legend()\n",
    "    plt.show()\n",
    "    \n",
    "    return model"
   ]
  },
  {
   "cell_type": "code",
   "execution_count": null,
   "id": "f9a1a509",
   "metadata": {},
   "outputs": [],
   "source": [
    "overfit_model= CNN_overfit(batch_size = 2, epochs = 15, lr = 0.001, num_filters = 50, embedding_dim = 100, \n",
    "                         dataset = \"overfit\", k_size=[2,4], freeze=True)"
   ]
  },
  {
   "cell_type": "code",
   "execution_count": null,
   "id": "feba6dcb",
   "metadata": {},
   "outputs": [],
   "source": [
    "model= CNN_train(batch_size = 32, epochs = 15, lr = 0.0005, num_filters = 50, embedding_dim = 100, \n",
    "                 dataset = \"train\", k_size=[2,4], freeze = True)"
   ]
  },
  {
   "cell_type": "code",
   "execution_count": null,
   "id": "e9a26e14",
   "metadata": {},
   "outputs": [],
   "source": [
    "#fine tuning embeddings by setting freeze parameter to False\n",
    "model= CNN_train(batch_size = 32, epochs = 15, lr = 0.0005, num_filters = 50, embedding_dim = 100, \n",
    "                 dataset = \"train\", k_size=[2,4],freeze =False)"
   ]
  },
  {
   "cell_type": "code",
   "execution_count": null,
   "id": "428ca83a",
   "metadata": {},
   "outputs": [],
   "source": [
    "glove = torchtext.vocab.GloVe(name=\"6B\",dim=100)"
   ]
  },
  {
   "cell_type": "code",
   "execution_count": null,
   "id": "3ce4e712",
   "metadata": {},
   "outputs": [],
   "source": [
    "a = model.conv1.weight.squeeze().detach().cpu()"
   ]
  },
  {
   "cell_type": "code",
   "execution_count": null,
   "id": "fb2dc3f3",
   "metadata": {},
   "outputs": [],
   "source": [
    "b = torch.mean(a,1)"
   ]
  },
  {
   "cell_type": "code",
   "execution_count": null,
   "id": "1c332737",
   "metadata": {},
   "outputs": [],
   "source": [
    "avg_conv1 = torch.mean(b,0)"
   ]
  },
  {
   "cell_type": "code",
   "execution_count": null,
   "id": "d54b1429",
   "metadata": {},
   "outputs": [],
   "source": [
    "d = model.conv2.weight.squeeze().detach().cpu()"
   ]
  },
  {
   "cell_type": "code",
   "execution_count": null,
   "id": "507ac4f2",
   "metadata": {},
   "outputs": [],
   "source": [
    "e = torch.mean(d,1)"
   ]
  },
  {
   "cell_type": "code",
   "execution_count": null,
   "id": "02daf57b",
   "metadata": {},
   "outputs": [],
   "source": [
    "avg_conv2 = torch.mean(e,0)"
   ]
  },
  {
   "cell_type": "code",
   "execution_count": null,
   "id": "8c02d638",
   "metadata": {},
   "outputs": [],
   "source": [
    "def print_closest_cosine_words(vec, n=5):\n",
    "    cos = torch.nn.CosineSimilarity(dim=2)\n",
    "    dists = cos(glove.vectors.unsqueeze(0), vec.unsqueeze(0))\n",
    "    dists = dists.squeeze(0)\n",
    "    lst = sorted(enumerate(dists.numpy()), key=lambda x: x[1], reverse = True) # sort by distance\n",
    "    for idx, difference in lst[1:n+1]:                         # take the top n\n",
    "        print(glove.itos[idx], \"\\t%5.2f\" % difference)"
   ]
  },
  {
   "cell_type": "code",
   "execution_count": null,
   "id": "ed95ebe5",
   "metadata": {},
   "outputs": [],
   "source": [
    "print_closest_cosine_words(avg_conv1)"
   ]
  },
  {
   "cell_type": "code",
   "execution_count": null,
   "id": "4d3f3c02",
   "metadata": {},
   "outputs": [],
   "source": [
    "for item in b:\n",
    "    print_closest_cosine_words(item)\n",
    "    print('\\n')"
   ]
  },
  {
   "cell_type": "code",
   "execution_count": null,
   "id": "b9879df4",
   "metadata": {},
   "outputs": [],
   "source": [
    "print_closest_cosine_words(avg_conv2)"
   ]
  },
  {
   "cell_type": "code",
   "execution_count": null,
   "id": "be2a9471",
   "metadata": {},
   "outputs": [],
   "source": [
    "for item in e:\n",
    "    print_closest_cosine_words(item)\n",
    "    print('\\n')"
   ]
  },
  {
   "cell_type": "code",
   "execution_count": null,
   "id": "4b6f694b",
   "metadata": {},
   "outputs": [],
   "source": [
    "torch.save(model.state_dict(), 'model_cnn.pt')"
   ]
  },
  {
   "cell_type": "code",
   "execution_count": null,
   "id": "6f0a2e1f",
   "metadata": {},
   "outputs": [],
   "source": []
  }
 ],
 "metadata": {
  "kernelspec": {
   "display_name": "Python 3 (ipykernel)",
   "language": "python",
   "name": "python3"
  },
  "language_info": {
   "codemirror_mode": {
    "name": "ipython",
    "version": 3
   },
   "file_extension": ".py",
   "mimetype": "text/x-python",
   "name": "python",
   "nbconvert_exporter": "python",
   "pygments_lexer": "ipython3",
   "version": "3.7.13"
  }
 },
 "nbformat": 4,
 "nbformat_minor": 5
}
