{
  "cells": [
    {
      "cell_type": "code",
      "execution_count": null,
      "metadata": {
        "colab": {
          "base_uri": "https://localhost:8080/"
        },
        "id": "FKzEP1ZbX1R1",
        "outputId": "dd5864b7-4f50-4f60-d033-e7e5097e956f"
      },
      "outputs": [
        {
          "name": "stdout",
          "output_type": "stream",
          "text": [
            "\u001b[K     |████████████████████████████████| 211 kB 4.0 MB/s \n",
            "\u001b[K     |████████████████████████████████| 93 kB 2.5 MB/s \n",
            "\u001b[K     |████████████████████████████████| 7.4 MB 20.4 MB/s \n",
            "\u001b[K     |████████████████████████████████| 81 kB 3.6 MB/s \n",
            "\u001b[?25h  Building wheel for tinysegmenter (setup.py) ... \u001b[?25l\u001b[?25hdone\n",
            "  Building wheel for feedfinder2 (setup.py) ... \u001b[?25l\u001b[?25hdone\n",
            "  Building wheel for jieba3k (setup.py) ... \u001b[?25l\u001b[?25hdone\n",
            "  Building wheel for sgmllib3k (setup.py) ... \u001b[?25l\u001b[?25hdone\n",
            "\u001b[K     |████████████████████████████████| 837 kB 4.1 MB/s \n",
            "\u001b[?25h"
          ]
        }
      ],
      "source": [
        "!pip install newspaper3k --quiet\n",
        "!pip install justext --quiet"
      ]
    },
    {
      "cell_type": "code",
      "execution_count": null,
      "metadata": {
        "id": "GVBAmu90XPJU"
      },
      "outputs": [],
      "source": [
        "import requests\n",
        "import numpy as np\n",
        "from bs4 import BeautifulSoup\n",
        "import newspaper\n",
        "from newspaper import Article\n",
        "import pandas as pd\n",
        "from tqdm.notebook import tqdm\n",
        "import justext\n",
        "from google.colab import files\n",
        "from lxml.etree import ParseError"
      ]
    },
    {
      "cell_type": "code",
      "execution_count": null,
      "metadata": {
        "id": "IQu-Mg6F4mNc"
      },
      "outputs": [],
      "source": [
        "file_path = '/content/business.csv'\n",
        "table = pd.read_csv(file_path)"
      ]
    },
    {
      "cell_type": "code",
      "execution_count": null,
      "metadata": {
        "colab": {
          "base_uri": "https://localhost:8080/"
        },
        "id": "Et_NdQr_5q6W",
        "outputId": "e9ce680c-f78e-403a-9b2b-d530eb1168fe"
      },
      "outputs": [
        {
          "data": {
            "text/plain": [
              "Index(['category', 'link'], dtype='object')"
            ]
          },
          "execution_count": 15,
          "metadata": {},
          "output_type": "execute_result"
        }
      ],
      "source": [
        "table.columns"
      ]
    },
    {
      "cell_type": "code",
      "execution_count": null,
      "metadata": {
        "id": "UAIiV3SAXZte"
      },
      "outputs": [],
      "source": [
        "feeds = []"
      ]
    },
    {
      "cell_type": "code",
      "execution_count": null,
      "metadata": {
        "id": "i4mDavg05e0W"
      },
      "outputs": [],
      "source": [
        "for item in table['link']:\n",
        "  feeds.append(item)"
      ]
    },
    {
      "cell_type": "code",
      "execution_count": null,
      "metadata": {
        "colab": {
          "base_uri": "https://localhost:8080/"
        },
        "id": "Ej7WdjzY5zPH",
        "outputId": "5abf9031-74ee-42e7-9b47-c72f4965482c"
      },
      "outputs": [
        {
          "data": {
            "text/plain": [
              "256"
            ]
          },
          "execution_count": 18,
          "metadata": {},
          "output_type": "execute_result"
        }
      ],
      "source": [
        "len(feeds)"
      ]
    },
    {
      "cell_type": "code",
      "execution_count": null,
      "metadata": {
        "colab": {
          "base_uri": "https://localhost:8080/"
        },
        "id": "Q56vAbmA6pAH",
        "outputId": "fdba87a9-b1de-4ff3-b594-94045d3a2648"
      },
      "outputs": [
        {
          "data": {
            "text/plain": [
              "247"
            ]
          },
          "execution_count": 19,
          "metadata": {},
          "output_type": "execute_result"
        }
      ],
      "source": [
        "feeds_unique = list(set(feeds)) \n",
        "len(feeds_unique)"
      ]
    },
    {
      "cell_type": "code",
      "execution_count": null,
      "metadata": {
        "colab": {
          "base_uri": "https://localhost:8080/"
        },
        "id": "xle5p0hn-abg",
        "outputId": "6586847b-211a-48c9-ef4d-5c862b860f5d"
      },
      "outputs": [
        {
          "data": {
            "text/plain": [
              "247"
            ]
          },
          "execution_count": 20,
          "metadata": {},
          "output_type": "execute_result"
        }
      ],
      "source": [
        "feeds = feeds_unique\n",
        "len(feeds)"
      ]
    },
    {
      "cell_type": "code",
      "execution_count": null,
      "metadata": {
        "colab": {
          "base_uri": "https://localhost:8080/"
        },
        "id": "2ET4b4OaXadw",
        "outputId": "d17772ce-1e80-44e0-a792-e5e1c7bce37c"
      },
      "outputs": [
        {
          "name": "stdout",
          "output_type": "stream",
          "text": [
            "https://www.businesstravelnews.com/rss/business-travel-news\n",
            "http://feeds.feedburner.com/daily-express-sport-news\n",
            "http://feeds.bbci.co.uk/sport/0/cricket/rss.xml?edition=uk\n",
            "http://www.npr.org/rss/rss.php?id=1004\n",
            "http://www.npr.org/rss/rss.php?id=1004 500\n",
            "http://rss.canada.com/get/?F7497\n",
            "HTTPConnectionPool(host='rss.canada.com', port=80): Max retries exceeded with url: /get/?F7497 (Caused by NewConnectionError('<urllib3.connection.HTTPConnection object at 0x7f61f920c790>: Failed to establish a new connection: [Errno -2] Name or service not known'))\n",
            "http://rss.canada.com/get/?F7497 500\n",
            "http://www.oneindia.com/rss/news-india-fb.xml\n",
            "http://www.oneindia.com/rss/news-india-fb.xml 403\n",
            "http://rss.cnn.com/rss/edition_business.rss\n",
            "http://www.thehindubusinessline.com/news/?service=rss\n",
            "https://www.bworldonline.com/feed/\n",
            "https://www.moveyourmoney.org.uk/feed/\n",
            "http://www.latimes.com/nation/rss2.0.xml\n",
            "http://www.latimes.com/nation/rss2.0.xml 403\n",
            "http://rss.nytimes.com/services/xml/rss/nyt/Technology.xml\n",
            "http://www.oneindia.com/rss/news-sports-fb.xml\n",
            "http://www.oneindia.com/rss/news-sports-fb.xml 403\n",
            "http://zeenews.india.com/rss/science-technology-news.xml\n",
            "http://zeenews.india.com/rss/science-technology-news.xml 403\n",
            "http://hosted2.ap.org/atom/APDEFAULT/f70471f764144b2fab526d39972d37b3\n",
            "http://www.dailymail.co.uk/auhome/index.rss\n",
            "http://feeds.bbci.co.uk/news/business/rss.xml\n",
            "https://www.businessnews.com.ph/feed/\n",
            "https://www.indianweb2.com/feeds/posts/default\n",
            "http://www.theguardian.com/au/rss\n",
            "http://www.winnipegfreepress.com/rss/?path=%2Fsports\n",
            "https://prod-qt-images.s3.amazonaws.com/production/bloombergquint/feed.xml\n",
            "http://www.canadianbusiness.com/feed/\n",
            "http://rss.csmonitor.com/feeds/usa\n",
            "http://www.thetimes.co.uk/tto/business/rss\n",
            "http://www.businessweek.com/search/rssfeed.htm\n",
            "https://iotbusinessnews.com/feed/\n",
            "http://www.thestar.com/feeds.articles.life.technology.rss\n",
            "http://feeds.bbci.co.uk/news/uk/rss.xml\n",
            "http://feeds.washingtonpost.com/rss/business/technology\n",
            "https://uk.finance.yahoo.com/news/provider-yahoofinance/?format=rss\n",
            "https://uk.finance.yahoo.com/news/provider-yahoofinance/?format=rss 404\n",
            "http://www.huffingtonpost.com/feeds/verticals/world/index.xml\n",
            "http://www.standard.co.uk/news/rss\n",
            "http://time.com/tech/feed/\n",
            "http://www.ctvnews.ca/rss/business/ctv-news-business-headlines-1.867648\n",
            "https://www.musicbusinessworldwide.com/feed\n",
            "https://news.vice.com/rss\n",
            "https://www.thehindubusinessline.com/?service=rss\n",
            "http://www.cbc.ca/cmlink/rss-technology\n",
            "http://feeds.feedburner.com/TechCrunch/Gaming?format=xml\n",
            "http://www.nytimes.com/services/xml/rss/nyt/InternationalBusiness.xml\n",
            "http://www.macleans.ca/feed/\n",
            "http://www.businessspectator.com.au/bs/rss.xml\n",
            "http://www.businessspectator.com.au/bs/rss.xml 403\n",
            "http://www.theguardian.com/football/rss\n",
            "http://www.skysports.com/rss/0,20514,20876,00.xml\n",
            "http://feeds.webservice.techradar.com/us/rss/new\n",
            "http://www.standard.co.uk/sport/football/rss\n",
            "http://www.telegraph.co.uk/news/uknews/rss\n",
            "http://feeds.arstechnica.com/arstechnica/technology-lab\n",
            "http://www.mirror.co.uk/sport/rss.xml\n",
            "http://www.mirror.co.uk/sport/rss.xml 403\n",
            "http://www.abc.net.au/news/feed/45924/rss.xml\n",
            "http://www.dynamicbusiness.com.au/feed\n",
            "http://www.techspot.com/backend.xml\n",
            "http://www.livemint.com/rss/companies\n",
            "http://www.theverge.com/tech/rss/index.xml\n",
            "http://feeds.feedburner.com/daily-express-uk-news\n",
            "http://feeds.abcnews.com/abcnews/technologyheadlines\n",
            "https://feeds.feedburner.com/ModestMoney\n",
            "http://www.abc.net.au/local/rss/sydney/news.xml\n",
            "https://in.news.yahoo.com/rss//india\n",
            "http://www.business-standard.com/rss/current-affairs-news-11501.rss\n",
            "http://www.business-standard.com/rss/current-affairs-news-11501.rss 403\n",
            "http://feeds.feedburner.com/thedailybeast/articles\n",
            "http://feeds.feedburner.com/IeeeSpectrumRoboticsChannel\n",
            "http://feeds.news.com.au/public/rss/2.0/wtn_top_3368.xml\n",
            "http://rss.cnn.com/rss/money_topstories.rss\n",
            "http://feeds.feedburner.com/NationPBSNewsHour\n",
            "http://www.cbc.ca/cmlink/rss-sports\n",
            "http://www.business-standard.com/rss/latest.rss\n",
            "http://www.business-standard.com/rss/latest.rss 403\n",
            "http://feeds.nbcnews.com/feeds/worldnews\n",
            "http://www.itbusiness.ca/feed\n",
            "http://www.theverge.com/rss/group/features/index.xml\n",
            "http://www.theguardian.com/world/rss\n",
            "http://www.oneindia.com/rss/news-business-fb.xml\n",
            "http://www.oneindia.com/rss/news-business-fb.xml 403\n",
            "http://www.livemint.com/rss/industry\n",
            "http://feeds.news.com.au/heraldsun/rss/heraldsun_news_sport_2789.xml\n",
            "http://www.engadget.com/rss.xml\n",
            "http://www.ft.com/rss/world/uk\n",
            "http://www.espncricinfo.com/rss/content/story/feeds/6.xml\n",
            "http://feeds.bbci.co.uk/news/world/asia/rss.xml\n",
            "http://www.abc.net.au/news/feed/51892/rss.xml\n",
            "http://feeds.bbci.co.uk/news/technology/rss.xml\n",
            "http://feeds.feedburner.com/NewshourWorld\n",
            "http://www.huffingtonpost.com/feeds/verticals/technology/news.xml\n",
            "http://feeds2.feedburner.com/bit-tech/all\n",
            "http://www.brandonsun.com/rss/?path=%2Fnational%2Fbreaking-news\n",
            "http://feeds.news.com.au/public/rss/2.0/fs_breaking_news_13.xml\n",
            "http://feeds.news.com.au/public/rss/2.0/fs_breaking_news_13.xml 403\n",
            "http://zeenews.india.com/rss/sports-news.xml\n",
            "http://www.newsweek.com/rss\n",
            "http://www.newsweek.com/rss 403\n",
            "http://feeds.arstechnica.com/arstechnica/gadgets\n",
            "http://www.calgarysun.com/money/rss.xml\n",
            "http://www.calgarysun.com/money/rss.xml 404\n",
            "http://www.forbes.com/technology/feed/\n",
            "http://economictimes.indiatimes.com/rssfeedsdefault.cms\n",
            "http://feeds.wired.com/wired/index\n",
            "https://seekingalpha.com/market_currents.xml\n",
            "http://www.dailymail.co.uk/sport/index.rss\n",
            "https://www.biztrailblazer.com/feed/\n",
            "http://feeds.feedburner.com/dailytelegraphnationalnewsndm?format=xml\n",
            "http://feeds.hindustantimes.com/HT-Technology\n",
            "HTTPConnectionPool(host='feeds.hindustantimes.com', port=80): Max retries exceeded with url: /HT-Technology (Caused by NewConnectionError('<urllib3.connection.HTTPConnection object at 0x7f61f8f94a10>: Failed to establish a new connection: [Errno -2] Name or service not known'))\n",
            "http://www.thehindu.com/sport/?service=rss\n",
            "https://www.business-standard.com/rss/home_page_top_stories.rss\n",
            "https://www.business-standard.com/rss/home_page_top_stories.rss 403\n",
            "http://economictimes.indiatimes.com/News/rssfeeds/1715249553.cms\n",
            "http://feeds.feedburner.com/morningstar/glkd\n",
            "http://www.birminghampost.co.uk/business/rss.xml\n",
            "http://rss.cnn.com/rss/cnn_topstories.rss\n",
            "https://feeds.feedburner.com/JewishBusinessNews\n",
            "http://time.com/newsfeed/feed/\n",
            "http://www.cnet.com/rss/news/\n",
            "http://www.livemint.com/rss/consumer\n",
            "http://www.politico.com/rss/politicopicks.xml\n",
            "http://www.technologyreview.com/stream/rss/\n",
            "https://www.ibtimes.com.au/rss\n",
            "http://rss.radio-canada.ca/fils/nouvelles/national.xml\n",
            "HTTPConnectionPool(host='rss.radio-canada.ca', port=80): Max retries exceeded with url: /fils/nouvelles/national.xml (Caused by NewConnectionError('<urllib3.connection.HTTPConnection object at 0x7f61f8fd5ad0>: Failed to establish a new connection: [Errno -2] Name or service not known'))\n",
            "http://feeds.feedburner.com/techcrunch/startups?format=xml\n",
            "https://fortune.com/feed\n",
            "http://feeds.feedburner.com/FP_TopStories?format=xml\n",
            "https://mjbizdaily.com/feed/\n",
            "https://mjbizdaily.com/feed/ 403\n",
            "http://www.livemint.com/rss/money\n",
            "https://www.cnbc.com/id/19746125/device/rss/rss.xml\n",
            "https://www.businessnews.com.au/rssfeed/latest.rss\n",
            "http://www.cnet.com/rss/iphone-update/\n",
            "http://www.npr.org/rss/rss.php?id=1019\n",
            "http://www.thehindu.com/news/national/?service=rss\n",
            "http://www.thestar.com/feeds.articles.news.canada.rss\n",
            "http://www.thehindu.com/sci-tech/technology/?service=rss\n",
            "http://qz.com/feed\n",
            "http://www.telegraph.co.uk/finance/rss\n",
            "http://techcrunch.com/europe/feed/\n",
            "http://feeds.bbci.co.uk/news/world/us_and_canada/rss.xml\n",
            "http://feeds.bbci.co.uk/sport/0/rss.xml?edition=uk\n",
            "https://www.zeebiz.com/latest.xml/feed\n",
            "http://rss.canada.com/get/?F7537\n",
            "HTTPConnectionPool(host='rss.canada.com', port=80): Max retries exceeded with url: /get/?F7537 (Caused by NewConnectionError('<urllib3.connection.HTTPConnection object at 0x7f61f8f94510>: Failed to establish a new connection: [Errno -2] Name or service not known'))\n",
            "http://www.ctvnews.ca/rss/ctvnews-ca-canada-public-rss-1.822284\n",
            "http://www.manchestereveningnews.co.uk/rss.xml\n",
            "http://www.digitaltrends.com/feed/\n",
            "http://www.abc.net.au/news/feed/46182/rss.xml\n",
            "http://www.ibtimes.co.uk/rss/uk\n",
            "http://www.ibtimes.co.uk/rss/uk 403\n",
            "https://economictimes.indiatimes.com/rssfeedsdefault.cms\n",
            "https://www.globes.co.il/webservice/rss/rssfeeder.asmx/FeederNode?iID=1725\n",
            "http://www.theguardian.com/world/usa/rss\n",
            "http://www.techrepublic.com/rssfeeds/blog/australian-technology/\n",
            "https://business.financialpost.com/feed/\n",
            "http://www.cbsnews.com/latest/rss/main\n",
            "http://www.sikhsiyasat.com/feed/\n",
            "http://feeds.feedburner.com/daily-express-finance-news\n",
            "http://www.techtarget.com/html/pr/tt_pr.xml\n",
            "http://feeds.bbci.co.uk/news/world/asia/india/rss.xml\n",
            "http://feeds.newscientist.com/tech\n",
            "http://leaderpost.com/feed/\n",
            "http://feeds.news.com.au/heraldsun/rss/heraldsun_news_morenews_2794.xml\n",
            "http://mobilesyrup.com/feed/\n",
            "http://feeds.news.com.au/rss/newslocal/dt_nlocal_sport_3214.xml\n",
            "http://www.newyorker.com/feed/news\n",
            "http://www.smh.com.au/rssheadlines/business.xml\n",
            "http://www.sportsnet.ca/feed/\n",
            "http://www.salon.com/category/news/feed/rss/\n",
            "http://feeds.feedburner.com/ScottishNewsHeraldScotland\n",
            "http://rss.cnn.com/rss/cnn_tech.rss\n",
            "http://www.economist.com/blogs/americasview/2014/09/politics-alberta?fsrc=rss\n",
            "http://www.computerweekly.com/rss/All-Computer-Weekly-content.xml\n",
            "http://feeds.news.com.au/heraldsun/rss/heraldsun_news_business_2783.xml\n",
            "http://www.latimes.com/world/rss2.0.xml\n",
            "http://www.latimes.com/world/rss2.0.xml 403\n",
            "http://thestarphoenix.com/feed/\n",
            "http://indiatoday.feedsportal.com/c/33614/f/589699/index.rss\n",
            "HTTPConnectionPool(host='indiatoday.feedsportal.com', port=80): Max retries exceeded with url: /c/33614/f/589699/index.rss (Caused by NewConnectionError('<urllib3.connection.HTTPConnection object at 0x7f61f8ff4650>: Failed to establish a new connection: [Errno -2] Name or service not known'))\n",
            "http://rss.cbc.ca/lineup/business.xml\n",
            "http://feeds.bizjournals.com/industry_7\n",
            "http://www.thehindu.com/sci-tech/?service=rss\n",
            "http://www.deccanchronicle.com/rss.xml\n",
            "http://www.economist.com/feeds/print-sections/77/business.xml\n",
            "http://www.channel4.com/news/uk/rss\n",
            "http://feeds.feedburner.com/SportcoukNewsRssFeed\n",
            "https://bmmagazine.co.uk/feed/\n",
            "http://www.smh.com.au/rssheadlines/technology-news/article/rss.xml\n",
            "http://www.business-standard.com/rss/todays-paper.rss\n",
            "http://www.business-standard.com/rss/todays-paper.rss 403\n",
            "http://www.cnet.com/rss/android-update/\n",
            "https://ca.sports.yahoo.com/top/rss.xml\n",
            "http://feeds.nbcnews.com/feeds/topstories\n",
            "http://windsorstar.com/feed/\n",
            "https://www.investing.com/rss/news.rss\n",
            "http://feeds.feedburner.com/TheAtlanticWire\n",
            "https://www.canadianbusiness.com/business-news/feed/\n",
            "https://www.revyuh.com/feed/\n",
            "http://www.theguardian.com/uk/rss\n",
            "http://www.techinsider.io/rss\n",
            "https://feeds.feedburner.com/morningstar/glkd\n",
            "http://thewalrus.ca/feed/\n",
            "https://finance.yahoo.com/news/rssindex\n",
            "http://feeds.theguardian.com/theguardian/uk/business/rss\n",
            "https://news.google.com/news/feeds?cf=all&ned=in&hl=en&topic=b&output=rss\n",
            "http://www.bloomberg.com/feed/podcast/law.xml\n",
            "http://www.thestar.com/feeds.articles.sports.rss\n",
            "http://talkingbiznews.com/feed/\n",
            "http://talkingbiznews.com/feed/ 403\n",
            "http://www.dnaindia.com/rss.xml\n",
            "http://feeds.theguardian.com/theguardian/technology/rss\n",
            "http://businessnews.com.ng/feed/\n",
            "http://globalnews.ca/canada/feed/\n",
            "https://businessday.ng/feed/\n",
            "http://feeds.skynews.com/feeds/rss/technology.xml\n",
            "http://feeds.news.com.au/public/rss/2.0/anow_topstories_250.xml\n",
            "http://feeds.arstechnica.com/arstechnica/business\n",
            "http://online.wsj.com/xml/rss/3_7031.xml\n",
            "http://online.wsj.com/xml/rss/3_7031.xml 404\n",
            "http://gigaom.com/feed/\n",
            "http://gigaom.com/feed/ 403\n",
            "http://feeds.bbci.co.uk/news/technology/rss.xml#\n",
            "http://feeds.webservice.techradar.com/rss/new\n",
            "http://www.dailymail.co.uk/news/index.rss\n",
            "https://www.ft.com/?format=rss\n",
            "http://www.latimes.com/business/technology/rss2.0.xml\n",
            "http://www.latimes.com/business/technology/rss2.0.xml 403\n",
            "http://globalnews.ca/tech/feed/\n",
            "http://www.geek.com/feed/\n",
            "http://www.geek.com/feed/ 403\n",
            "http://zeenews.india.com/rss/world-news.xml\n",
            "http://feeds.theguardian.com/theguardian/uk/sport/rss\n",
            "http://www.thetimes.co.uk/tto/business/markets/india/rss\n",
            "http://metro.co.uk/sport/feed/\n",
            "https://www.businessmole.com/feed/\n",
            "http://techau.com.au/feed/\n",
            "http://www.business-standard.com/rss/home_page_top_stories.rss\n",
            "http://www.business-standard.com/rss/home_page_top_stories.rss 403\n",
            "http://news.yahoo.com/rss/us\n",
            "http://www.huffingtonpost.com/feeds/verticals/business/news.xml\n",
            "http://www.npr.org/rss/rss.php?id=1003\n",
            "http://www.macworld.com/index.rss\n",
            "http://www.journaldemontreal.com/rss.xml\n",
            "http://www.journaldemontreal.com/rss.xml 403\n",
            "http://torontosportsmedia.com/feed\n",
            "http://www.businesstoday.in/rss/rssstory.jsp?sid=105\n",
            "http://feeds.news.com.au/heraldsun/rss/heraldsun_news_technology_2790.xml\n",
            "https://www.moneyweb.co.za/feed/\n",
            "http://feeds.abcnews.com/abcnews/usheadlines\n",
            "https://www.businessdailyafrica.com/latestrss.rss\n",
            "https://www.businessdailyafrica.com/latestrss.rss 404\n",
            "http://rss.nzherald.co.nz/rss/xml/nzhrsscid_000000002.xml\n",
            "http://www.pcworld.com/index.rss\n",
            "http://feeds.feedburner.com/TechCrunch/\n",
            "http://betakit.com/feed/\n",
            "http://feeds.feedburner.com/TheAustralianTheNationNews\n",
            "https://libn.com/feed/\n",
            "https://libn.com/feed/ 403\n",
            "http://feeds.bbci.co.uk/news/world/rss.xml\n",
            "http://feeds.news.com.au/public/rss/2.0/bcm_top_stories_257.xml\n",
            "http://feeds.feedburner.com/TheAustralianSportsNews\n",
            "http://www.cbc.ca/cmlink/rss-canada\n",
            "http://rss.news.yahoo.com/rss/world\n",
            "http://www.huffingtonpost.co.uk/feeds/verticals/uk-tech/index.xml\n",
            "http://www.techrepublic.com/rssfeeds/blog/european-technology/\n",
            "http://www.skysports.com/rss/0,20514,12040,00.xml\n",
            "http://www.oxfordmail.co.uk/news/rss/\n",
            "https://www.thailand-business-news.com/feed\n",
            "http://zeenews.india.com/rss/business.xml\n",
            "http://zeenews.india.com/rss/business.xml 403\n",
            "http://www.manchestereveningnews.co.uk/business/rss.xml\n",
            "https://www.insightssuccess.com/feed/\n",
            "http://smallbiztalks.com/feed/\n",
            "http://globalnews.ca/sports/feed/\n",
            "247\n",
            "217\n"
          ]
        }
      ],
      "source": [
        "g_feeds = []\n",
        "for feed in feeds:\n",
        "    print(feed)\n",
        "    try:\n",
        "        response = requests.get(feed)\n",
        "    except requests.exceptions.RequestException as e:\n",
        "        print(e)\n",
        "        r = \"No response\"\n",
        "    if response.status_code == 200:\n",
        "        g_feeds.append(feed)\n",
        "    else:\n",
        "        print(feed, response.status_code)\n",
        "print(len(feeds))\n",
        "print(len(g_feeds))"
      ]
    },
    {
      "cell_type": "code",
      "execution_count": null,
      "metadata": {
        "id": "8kDXfmniXaj1"
      },
      "outputs": [],
      "source": [
        "articles = []\n",
        "title_l = []\n",
        "text_l = []\n",
        "for feed in g_feeds:\n",
        "    try:\n",
        "        response = requests.get(feed)\n",
        "    except requests.exceptions.RequestException as e:\n",
        "        print(e)\n",
        "        r = \"No response\"\n",
        "    webpage = response.content\n",
        "    soup = BeautifulSoup(webpage, features='xml')\n",
        "    items = soup.find_all('item')\n",
        "    print(\"feed-->\",feed)\n",
        "    for item in items:\n",
        "        link = item.find('link').text\n",
        "        articles.append(link)\n",
        "print(len(articles))\n"
      ]
    },
    {
      "cell_type": "code",
      "execution_count": null,
      "metadata": {
        "id": "4xfwS7_wU9md"
      },
      "outputs": [],
      "source": [
        "# articles = []\n",
        "# title_l = []\n",
        "# text_l = []"
      ]
    },
    {
      "cell_type": "code",
      "execution_count": null,
      "metadata": {
        "id": "64lYk2WyP0eP"
      },
      "outputs": [],
      "source": [
        "# file_path_links = '/content/news_links_final.csv'\n",
        "# table_links = pd.read_csv(file_path_links)"
      ]
    },
    {
      "cell_type": "code",
      "execution_count": null,
      "metadata": {
        "id": "l4e2JENhRgbc"
      },
      "outputs": [],
      "source": [
        "# articles_df = table_links['URL']\n",
        "# articles = articles_df.values.tolist()"
      ]
    },
    {
      "cell_type": "code",
      "execution_count": null,
      "metadata": {
        "colab": {
          "base_uri": "https://localhost:8080/",
          "height": 36
        },
        "id": "y85oEuKfIMNG",
        "outputId": "ae7bfbd5-7b2c-4346-9dab-19f7409cdec7"
      },
      "outputs": [
        {
          "data": {
            "application/vnd.google.colaboratory.intrinsic+json": {
              "type": "string"
            },
            "text/plain": [
              "'http://www.rttnews.com/2283198/uncertain-mood-prevails-on-wall-street.aspx\\\\?type=glcom'"
            ]
          },
          "execution_count": 7,
          "metadata": {},
          "output_type": "execute_result"
        }
      ],
      "source": [
        "# articles[155]"
      ]
    },
    {
      "cell_type": "code",
      "execution_count": null,
      "metadata": {
        "colab": {
          "base_uri": "https://localhost:8080/"
        },
        "id": "VhWa275kSXgt",
        "outputId": "869d887b-57b0-4137-b055-5d8bf74842ce"
      },
      "outputs": [
        {
          "data": {
            "text/plain": [
              "221860"
            ]
          },
          "execution_count": 8,
          "metadata": {},
          "output_type": "execute_result"
        }
      ],
      "source": [
        "# len(articles)"
      ]
    },
    {
      "cell_type": "code",
      "execution_count": null,
      "metadata": {
        "id": "JgkINe9rgqC5"
      },
      "outputs": [],
      "source": [
        "def get_content(content):\n",
        "    # print(\"Into get_content\")\n",
        "    try:\n",
        "      raw = requests.get(content,timeout=10)\n",
        "      if raw.status_code == 200 and len(raw.content)>0:\n",
        "        # print(\"raw.content-->\",)\n",
        "        paragraphs = justext.justext(raw.content, justext.get_stoplist(\"English\"))\n",
        "        return \"\".join([p.text for p in paragraphs if not p.is_boilerplate and not p.is_heading])\n",
        "      else:\n",
        "        return None\n",
        "    except(requests.exceptions.RequestException) as e:\n",
        "      print(e)\n",
        "    "
      ]
    },
    {
      "cell_type": "code",
      "execution_count": null,
      "metadata": {
        "colab": {
          "background_save": true
        },
        "id": "GKN4Q9vUXaqY"
      },
      "outputs": [],
      "source": [
        "for url in tqdm(articles):\n",
        "    article = Article(url)\n",
        "    print(\"article-->\",url)\n",
        "    try:\n",
        "        article.download()\n",
        "        article.parse()\n",
        "        title = article.title \n",
        "        title_l.append(title)\n",
        "        text = get_content(url)\n",
        "        # print(\"text-->\",type(text))\n",
        "        if(text==None):\n",
        "          continue\n",
        "        text_l.append(text)\n",
        "\n",
        "    except (newspaper.article.ArticleException) as e:\n",
        "        print(e)\n",
        "print(len(articles))\n",
        "print(len(title_l))\n",
        "print(len(text_l))"
      ]
    },
    {
      "cell_type": "code",
      "execution_count": null,
      "metadata": {
        "id": "ctrB8KclXawv"
      },
      "outputs": [],
      "source": [
        "newspaper_df = pd.DataFrame(\n",
        "    {'Title': title_l,\n",
        "    #  'URL': articles,\n",
        "     'Article': text_l\n",
        "    })"
      ]
    },
    {
      "cell_type": "code",
      "execution_count": null,
      "metadata": {
        "id": "YG4uvreySUMT"
      },
      "outputs": [],
      "source": [
        "newspaper_df['Article'].replace('', np.nan, inplace=True)"
      ]
    },
    {
      "cell_type": "code",
      "execution_count": null,
      "metadata": {
        "colab": {
          "base_uri": "https://localhost:8080/",
          "height": 424
        },
        "id": "nlFm9E0ATWBF",
        "outputId": "0e958c9e-cb11-4211-bef2-43d1e234ff37"
      },
      "outputs": [
        {
          "data": {
            "text/html": [
              "\n",
              "  <div id=\"df-749e0015-4fce-43b6-81e2-253672f48f45\">\n",
              "    <div class=\"colab-df-container\">\n",
              "      <div>\n",
              "<style scoped>\n",
              "    .dataframe tbody tr th:only-of-type {\n",
              "        vertical-align: middle;\n",
              "    }\n",
              "\n",
              "    .dataframe tbody tr th {\n",
              "        vertical-align: top;\n",
              "    }\n",
              "\n",
              "    .dataframe thead th {\n",
              "        text-align: right;\n",
              "    }\n",
              "</style>\n",
              "<table border=\"1\" class=\"dataframe\">\n",
              "  <thead>\n",
              "    <tr style=\"text-align: right;\">\n",
              "      <th></th>\n",
              "      <th>Title</th>\n",
              "      <th>Article</th>\n",
              "    </tr>\n",
              "  </thead>\n",
              "  <tbody>\n",
              "    <tr>\n",
              "      <th>0</th>\n",
              "      <td>JetBlue Names Paris as Second European Destina...</td>\n",
              "      <td>JetBlue plans to add Paris to its schedule sta...</td>\n",
              "    </tr>\n",
              "    <tr>\n",
              "      <th>1</th>\n",
              "      <td>New D.C. Metro Extension Offers Direct Dulles ...</td>\n",
              "      <td>The new Silver Line extension on Washington, D...</td>\n",
              "    </tr>\n",
              "    <tr>\n",
              "      <th>2</th>\n",
              "      <td>Etihad, Garuda to Expand Codeshare</td>\n",
              "      <td>Etihad Airways and Garuda Indonesia have agree...</td>\n",
              "    </tr>\n",
              "    <tr>\n",
              "      <th>3</th>\n",
              "      <td>ANA to Add Taipei, Shenzhen Service</td>\n",
              "      <td>All Nippon Airways on Nov. 26 will increase se...</td>\n",
              "    </tr>\n",
              "    <tr>\n",
              "      <th>4</th>\n",
              "      <td>Amadeus Signs Agreements with Fareportal, Simp...</td>\n",
              "      <td>Amadeus on Tuesday announced new distribution ...</td>\n",
              "    </tr>\n",
              "    <tr>\n",
              "      <th>...</th>\n",
              "      <td>...</td>\n",
              "      <td>...</td>\n",
              "    </tr>\n",
              "    <tr>\n",
              "      <th>5658</th>\n",
              "      <td>Banton, Boucher lead short-handed Raptors past...</td>\n",
              "      <td>“I got a lot of reps in the summer, playing fo...</td>\n",
              "    </tr>\n",
              "    <tr>\n",
              "      <th>5659</th>\n",
              "      <td>Trent joins long list of injured Raptors</td>\n",
              "      <td>Trent had started all 14 games for the Raptors...</td>\n",
              "    </tr>\n",
              "    <tr>\n",
              "      <th>5660</th>\n",
              "      <td>Dreams come with disappointment as Canada name...</td>\n",
              "      <td>More than a few dreams officially came true in...</td>\n",
              "    </tr>\n",
              "    <tr>\n",
              "      <th>5661</th>\n",
              "      <td>Pacers use big fourth quarter to beat Raptors</td>\n",
              "      <td>After Toronto went ahead by 15 in the first mi...</td>\n",
              "    </tr>\n",
              "    <tr>\n",
              "      <th>5662</th>\n",
              "      <td>Omoruyi scores career-high 22 as Thunder top R...</td>\n",
              "      <td>OKLAHOMA CITY (AP) — Eugene Omoruyi scored a c...</td>\n",
              "    </tr>\n",
              "  </tbody>\n",
              "</table>\n",
              "<p>5663 rows × 2 columns</p>\n",
              "</div>\n",
              "      <button class=\"colab-df-convert\" onclick=\"convertToInteractive('df-749e0015-4fce-43b6-81e2-253672f48f45')\"\n",
              "              title=\"Convert this dataframe to an interactive table.\"\n",
              "              style=\"display:none;\">\n",
              "        \n",
              "  <svg xmlns=\"http://www.w3.org/2000/svg\" height=\"24px\"viewBox=\"0 0 24 24\"\n",
              "       width=\"24px\">\n",
              "    <path d=\"M0 0h24v24H0V0z\" fill=\"none\"/>\n",
              "    <path d=\"M18.56 5.44l.94 2.06.94-2.06 2.06-.94-2.06-.94-.94-2.06-.94 2.06-2.06.94zm-11 1L8.5 8.5l.94-2.06 2.06-.94-2.06-.94L8.5 2.5l-.94 2.06-2.06.94zm10 10l.94 2.06.94-2.06 2.06-.94-2.06-.94-.94-2.06-.94 2.06-2.06.94z\"/><path d=\"M17.41 7.96l-1.37-1.37c-.4-.4-.92-.59-1.43-.59-.52 0-1.04.2-1.43.59L10.3 9.45l-7.72 7.72c-.78.78-.78 2.05 0 2.83L4 21.41c.39.39.9.59 1.41.59.51 0 1.02-.2 1.41-.59l7.78-7.78 2.81-2.81c.8-.78.8-2.07 0-2.86zM5.41 20L4 18.59l7.72-7.72 1.47 1.35L5.41 20z\"/>\n",
              "  </svg>\n",
              "      </button>\n",
              "      \n",
              "  <style>\n",
              "    .colab-df-container {\n",
              "      display:flex;\n",
              "      flex-wrap:wrap;\n",
              "      gap: 12px;\n",
              "    }\n",
              "\n",
              "    .colab-df-convert {\n",
              "      background-color: #E8F0FE;\n",
              "      border: none;\n",
              "      border-radius: 50%;\n",
              "      cursor: pointer;\n",
              "      display: none;\n",
              "      fill: #1967D2;\n",
              "      height: 32px;\n",
              "      padding: 0 0 0 0;\n",
              "      width: 32px;\n",
              "    }\n",
              "\n",
              "    .colab-df-convert:hover {\n",
              "      background-color: #E2EBFA;\n",
              "      box-shadow: 0px 1px 2px rgba(60, 64, 67, 0.3), 0px 1px 3px 1px rgba(60, 64, 67, 0.15);\n",
              "      fill: #174EA6;\n",
              "    }\n",
              "\n",
              "    [theme=dark] .colab-df-convert {\n",
              "      background-color: #3B4455;\n",
              "      fill: #D2E3FC;\n",
              "    }\n",
              "\n",
              "    [theme=dark] .colab-df-convert:hover {\n",
              "      background-color: #434B5C;\n",
              "      box-shadow: 0px 1px 3px 1px rgba(0, 0, 0, 0.15);\n",
              "      filter: drop-shadow(0px 1px 2px rgba(0, 0, 0, 0.3));\n",
              "      fill: #FFFFFF;\n",
              "    }\n",
              "  </style>\n",
              "\n",
              "      <script>\n",
              "        const buttonEl =\n",
              "          document.querySelector('#df-749e0015-4fce-43b6-81e2-253672f48f45 button.colab-df-convert');\n",
              "        buttonEl.style.display =\n",
              "          google.colab.kernel.accessAllowed ? 'block' : 'none';\n",
              "\n",
              "        async function convertToInteractive(key) {\n",
              "          const element = document.querySelector('#df-749e0015-4fce-43b6-81e2-253672f48f45');\n",
              "          const dataTable =\n",
              "            await google.colab.kernel.invokeFunction('convertToInteractive',\n",
              "                                                     [key], {});\n",
              "          if (!dataTable) return;\n",
              "\n",
              "          const docLinkHtml = 'Like what you see? Visit the ' +\n",
              "            '<a target=\"_blank\" href=https://colab.research.google.com/notebooks/data_table.ipynb>data table notebook</a>'\n",
              "            + ' to learn more about interactive tables.';\n",
              "          element.innerHTML = '';\n",
              "          dataTable['output_type'] = 'display_data';\n",
              "          await google.colab.output.renderOutput(dataTable, element);\n",
              "          const docLink = document.createElement('div');\n",
              "          docLink.innerHTML = docLinkHtml;\n",
              "          element.appendChild(docLink);\n",
              "        }\n",
              "      </script>\n",
              "    </div>\n",
              "  </div>\n",
              "  "
            ],
            "text/plain": [
              "                                                  Title  \\\n",
              "0     JetBlue Names Paris as Second European Destina...   \n",
              "1     New D.C. Metro Extension Offers Direct Dulles ...   \n",
              "2                    Etihad, Garuda to Expand Codeshare   \n",
              "3                   ANA to Add Taipei, Shenzhen Service   \n",
              "4     Amadeus Signs Agreements with Fareportal, Simp...   \n",
              "...                                                 ...   \n",
              "5658  Banton, Boucher lead short-handed Raptors past...   \n",
              "5659           Trent joins long list of injured Raptors   \n",
              "5660  Dreams come with disappointment as Canada name...   \n",
              "5661      Pacers use big fourth quarter to beat Raptors   \n",
              "5662  Omoruyi scores career-high 22 as Thunder top R...   \n",
              "\n",
              "                                                Article  \n",
              "0     JetBlue plans to add Paris to its schedule sta...  \n",
              "1     The new Silver Line extension on Washington, D...  \n",
              "2     Etihad Airways and Garuda Indonesia have agree...  \n",
              "3     All Nippon Airways on Nov. 26 will increase se...  \n",
              "4     Amadeus on Tuesday announced new distribution ...  \n",
              "...                                                 ...  \n",
              "5658  “I got a lot of reps in the summer, playing fo...  \n",
              "5659  Trent had started all 14 games for the Raptors...  \n",
              "5660  More than a few dreams officially came true in...  \n",
              "5661  After Toronto went ahead by 15 in the first mi...  \n",
              "5662  OKLAHOMA CITY (AP) — Eugene Omoruyi scored a c...  \n",
              "\n",
              "[5663 rows x 2 columns]"
            ]
          },
          "execution_count": 28,
          "metadata": {},
          "output_type": "execute_result"
        }
      ],
      "source": [
        "newspaper_df"
      ]
    },
    {
      "cell_type": "code",
      "execution_count": null,
      "metadata": {
        "id": "KQo3bkV4TevW"
      },
      "outputs": [],
      "source": [
        "newspaper_df.dropna(subset=['Article'], inplace=True)"
      ]
    },
    {
      "cell_type": "code",
      "execution_count": null,
      "metadata": {
        "colab": {
          "base_uri": "https://localhost:8080/",
          "height": 424
        },
        "id": "h5BAMUAzTpT2",
        "outputId": "5fbd5e6b-59b4-4d26-bdb2-e48c51917733"
      },
      "outputs": [
        {
          "data": {
            "text/html": [
              "\n",
              "  <div id=\"df-342ea716-d0b5-47c4-b3f1-18662dd9820c\">\n",
              "    <div class=\"colab-df-container\">\n",
              "      <div>\n",
              "<style scoped>\n",
              "    .dataframe tbody tr th:only-of-type {\n",
              "        vertical-align: middle;\n",
              "    }\n",
              "\n",
              "    .dataframe tbody tr th {\n",
              "        vertical-align: top;\n",
              "    }\n",
              "\n",
              "    .dataframe thead th {\n",
              "        text-align: right;\n",
              "    }\n",
              "</style>\n",
              "<table border=\"1\" class=\"dataframe\">\n",
              "  <thead>\n",
              "    <tr style=\"text-align: right;\">\n",
              "      <th></th>\n",
              "      <th>Title</th>\n",
              "      <th>Article</th>\n",
              "    </tr>\n",
              "  </thead>\n",
              "  <tbody>\n",
              "    <tr>\n",
              "      <th>0</th>\n",
              "      <td>JetBlue Names Paris as Second European Destina...</td>\n",
              "      <td>JetBlue plans to add Paris to its schedule sta...</td>\n",
              "    </tr>\n",
              "    <tr>\n",
              "      <th>1</th>\n",
              "      <td>New D.C. Metro Extension Offers Direct Dulles ...</td>\n",
              "      <td>The new Silver Line extension on Washington, D...</td>\n",
              "    </tr>\n",
              "    <tr>\n",
              "      <th>2</th>\n",
              "      <td>Etihad, Garuda to Expand Codeshare</td>\n",
              "      <td>Etihad Airways and Garuda Indonesia have agree...</td>\n",
              "    </tr>\n",
              "    <tr>\n",
              "      <th>3</th>\n",
              "      <td>ANA to Add Taipei, Shenzhen Service</td>\n",
              "      <td>All Nippon Airways on Nov. 26 will increase se...</td>\n",
              "    </tr>\n",
              "    <tr>\n",
              "      <th>4</th>\n",
              "      <td>Amadeus Signs Agreements with Fareportal, Simp...</td>\n",
              "      <td>Amadeus on Tuesday announced new distribution ...</td>\n",
              "    </tr>\n",
              "    <tr>\n",
              "      <th>...</th>\n",
              "      <td>...</td>\n",
              "      <td>...</td>\n",
              "    </tr>\n",
              "    <tr>\n",
              "      <th>5658</th>\n",
              "      <td>Banton, Boucher lead short-handed Raptors past...</td>\n",
              "      <td>“I got a lot of reps in the summer, playing fo...</td>\n",
              "    </tr>\n",
              "    <tr>\n",
              "      <th>5659</th>\n",
              "      <td>Trent joins long list of injured Raptors</td>\n",
              "      <td>Trent had started all 14 games for the Raptors...</td>\n",
              "    </tr>\n",
              "    <tr>\n",
              "      <th>5660</th>\n",
              "      <td>Dreams come with disappointment as Canada name...</td>\n",
              "      <td>More than a few dreams officially came true in...</td>\n",
              "    </tr>\n",
              "    <tr>\n",
              "      <th>5661</th>\n",
              "      <td>Pacers use big fourth quarter to beat Raptors</td>\n",
              "      <td>After Toronto went ahead by 15 in the first mi...</td>\n",
              "    </tr>\n",
              "    <tr>\n",
              "      <th>5662</th>\n",
              "      <td>Omoruyi scores career-high 22 as Thunder top R...</td>\n",
              "      <td>OKLAHOMA CITY (AP) — Eugene Omoruyi scored a c...</td>\n",
              "    </tr>\n",
              "  </tbody>\n",
              "</table>\n",
              "<p>5311 rows × 2 columns</p>\n",
              "</div>\n",
              "      <button class=\"colab-df-convert\" onclick=\"convertToInteractive('df-342ea716-d0b5-47c4-b3f1-18662dd9820c')\"\n",
              "              title=\"Convert this dataframe to an interactive table.\"\n",
              "              style=\"display:none;\">\n",
              "        \n",
              "  <svg xmlns=\"http://www.w3.org/2000/svg\" height=\"24px\"viewBox=\"0 0 24 24\"\n",
              "       width=\"24px\">\n",
              "    <path d=\"M0 0h24v24H0V0z\" fill=\"none\"/>\n",
              "    <path d=\"M18.56 5.44l.94 2.06.94-2.06 2.06-.94-2.06-.94-.94-2.06-.94 2.06-2.06.94zm-11 1L8.5 8.5l.94-2.06 2.06-.94-2.06-.94L8.5 2.5l-.94 2.06-2.06.94zm10 10l.94 2.06.94-2.06 2.06-.94-2.06-.94-.94-2.06-.94 2.06-2.06.94z\"/><path d=\"M17.41 7.96l-1.37-1.37c-.4-.4-.92-.59-1.43-.59-.52 0-1.04.2-1.43.59L10.3 9.45l-7.72 7.72c-.78.78-.78 2.05 0 2.83L4 21.41c.39.39.9.59 1.41.59.51 0 1.02-.2 1.41-.59l7.78-7.78 2.81-2.81c.8-.78.8-2.07 0-2.86zM5.41 20L4 18.59l7.72-7.72 1.47 1.35L5.41 20z\"/>\n",
              "  </svg>\n",
              "      </button>\n",
              "      \n",
              "  <style>\n",
              "    .colab-df-container {\n",
              "      display:flex;\n",
              "      flex-wrap:wrap;\n",
              "      gap: 12px;\n",
              "    }\n",
              "\n",
              "    .colab-df-convert {\n",
              "      background-color: #E8F0FE;\n",
              "      border: none;\n",
              "      border-radius: 50%;\n",
              "      cursor: pointer;\n",
              "      display: none;\n",
              "      fill: #1967D2;\n",
              "      height: 32px;\n",
              "      padding: 0 0 0 0;\n",
              "      width: 32px;\n",
              "    }\n",
              "\n",
              "    .colab-df-convert:hover {\n",
              "      background-color: #E2EBFA;\n",
              "      box-shadow: 0px 1px 2px rgba(60, 64, 67, 0.3), 0px 1px 3px 1px rgba(60, 64, 67, 0.15);\n",
              "      fill: #174EA6;\n",
              "    }\n",
              "\n",
              "    [theme=dark] .colab-df-convert {\n",
              "      background-color: #3B4455;\n",
              "      fill: #D2E3FC;\n",
              "    }\n",
              "\n",
              "    [theme=dark] .colab-df-convert:hover {\n",
              "      background-color: #434B5C;\n",
              "      box-shadow: 0px 1px 3px 1px rgba(0, 0, 0, 0.15);\n",
              "      filter: drop-shadow(0px 1px 2px rgba(0, 0, 0, 0.3));\n",
              "      fill: #FFFFFF;\n",
              "    }\n",
              "  </style>\n",
              "\n",
              "      <script>\n",
              "        const buttonEl =\n",
              "          document.querySelector('#df-342ea716-d0b5-47c4-b3f1-18662dd9820c button.colab-df-convert');\n",
              "        buttonEl.style.display =\n",
              "          google.colab.kernel.accessAllowed ? 'block' : 'none';\n",
              "\n",
              "        async function convertToInteractive(key) {\n",
              "          const element = document.querySelector('#df-342ea716-d0b5-47c4-b3f1-18662dd9820c');\n",
              "          const dataTable =\n",
              "            await google.colab.kernel.invokeFunction('convertToInteractive',\n",
              "                                                     [key], {});\n",
              "          if (!dataTable) return;\n",
              "\n",
              "          const docLinkHtml = 'Like what you see? Visit the ' +\n",
              "            '<a target=\"_blank\" href=https://colab.research.google.com/notebooks/data_table.ipynb>data table notebook</a>'\n",
              "            + ' to learn more about interactive tables.';\n",
              "          element.innerHTML = '';\n",
              "          dataTable['output_type'] = 'display_data';\n",
              "          await google.colab.output.renderOutput(dataTable, element);\n",
              "          const docLink = document.createElement('div');\n",
              "          docLink.innerHTML = docLinkHtml;\n",
              "          element.appendChild(docLink);\n",
              "        }\n",
              "      </script>\n",
              "    </div>\n",
              "  </div>\n",
              "  "
            ],
            "text/plain": [
              "                                                  Title  \\\n",
              "0     JetBlue Names Paris as Second European Destina...   \n",
              "1     New D.C. Metro Extension Offers Direct Dulles ...   \n",
              "2                    Etihad, Garuda to Expand Codeshare   \n",
              "3                   ANA to Add Taipei, Shenzhen Service   \n",
              "4     Amadeus Signs Agreements with Fareportal, Simp...   \n",
              "...                                                 ...   \n",
              "5658  Banton, Boucher lead short-handed Raptors past...   \n",
              "5659           Trent joins long list of injured Raptors   \n",
              "5660  Dreams come with disappointment as Canada name...   \n",
              "5661      Pacers use big fourth quarter to beat Raptors   \n",
              "5662  Omoruyi scores career-high 22 as Thunder top R...   \n",
              "\n",
              "                                                Article  \n",
              "0     JetBlue plans to add Paris to its schedule sta...  \n",
              "1     The new Silver Line extension on Washington, D...  \n",
              "2     Etihad Airways and Garuda Indonesia have agree...  \n",
              "3     All Nippon Airways on Nov. 26 will increase se...  \n",
              "4     Amadeus on Tuesday announced new distribution ...  \n",
              "...                                                 ...  \n",
              "5658  “I got a lot of reps in the summer, playing fo...  \n",
              "5659  Trent had started all 14 games for the Raptors...  \n",
              "5660  More than a few dreams officially came true in...  \n",
              "5661  After Toronto went ahead by 15 in the first mi...  \n",
              "5662  OKLAHOMA CITY (AP) — Eugene Omoruyi scored a c...  \n",
              "\n",
              "[5311 rows x 2 columns]"
            ]
          },
          "execution_count": 30,
          "metadata": {},
          "output_type": "execute_result"
        }
      ],
      "source": [
        "newspaper_df"
      ]
    },
    {
      "cell_type": "code",
      "execution_count": null,
      "metadata": {
        "colab": {
          "base_uri": "https://localhost:8080/",
          "height": 34
        },
        "id": "pIgPyrG282iu",
        "outputId": "e4f710c4-eb7b-473f-c4d8-02d64d91f962"
      },
      "outputs": [
        {
          "data": {
            "application/javascript": [
              "\n",
              "    async function download(id, filename, size) {\n",
              "      if (!google.colab.kernel.accessAllowed) {\n",
              "        return;\n",
              "      }\n",
              "      const div = document.createElement('div');\n",
              "      const label = document.createElement('label');\n",
              "      label.textContent = `Downloading \"${filename}\": `;\n",
              "      div.appendChild(label);\n",
              "      const progress = document.createElement('progress');\n",
              "      progress.max = size;\n",
              "      div.appendChild(progress);\n",
              "      document.body.appendChild(div);\n",
              "\n",
              "      const buffers = [];\n",
              "      let downloaded = 0;\n",
              "\n",
              "      const channel = await google.colab.kernel.comms.open(id);\n",
              "      // Send a message to notify the kernel that we're ready.\n",
              "      channel.send({})\n",
              "\n",
              "      for await (const message of channel.messages) {\n",
              "        // Send a message to notify the kernel that we're ready.\n",
              "        channel.send({})\n",
              "        if (message.buffers) {\n",
              "          for (const buffer of message.buffers) {\n",
              "            buffers.push(buffer);\n",
              "            downloaded += buffer.byteLength;\n",
              "            progress.value = downloaded;\n",
              "          }\n",
              "        }\n",
              "      }\n",
              "      const blob = new Blob(buffers, {type: 'application/binary'});\n",
              "      const a = document.createElement('a');\n",
              "      a.href = window.URL.createObjectURL(blob);\n",
              "      a.download = filename;\n",
              "      div.appendChild(a);\n",
              "      a.click();\n",
              "      div.remove();\n",
              "    }\n",
              "  "
            ],
            "text/plain": [
              "<IPython.core.display.Javascript object>"
            ]
          },
          "metadata": {},
          "output_type": "display_data"
        },
        {
          "data": {
            "application/javascript": [
              "download(\"download_aff0e70f-d013-4e31-98eb-2ef00486e5d3\", \"data.csv\", 23778327)"
            ],
            "text/plain": [
              "<IPython.core.display.Javascript object>"
            ]
          },
          "metadata": {},
          "output_type": "display_data"
        }
      ],
      "source": [
        "newspaper_df.to_csv('data.csv')\n",
        "files.download('data.csv')"
      ]
    },
    {
      "cell_type": "code",
      "execution_count": null,
      "metadata": {
        "id": "XVVbSivKaPnN"
      },
      "outputs": [],
      "source": []
    }
  ],
  "metadata": {
    "colab": {
      "machine_shape": "hm",
      "provenance": []
    },
    "gpuClass": "standard",
    "kernelspec": {
      "display_name": "Python 3",
      "name": "python3"
    },
    "language_info": {
      "name": "python"
    }
  },
  "nbformat": 4,
  "nbformat_minor": 0
}